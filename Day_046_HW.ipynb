{
 "cells": [
  {
   "cell_type": "markdown",
   "metadata": {},
   "source": [
    "### 作業\n",
    "目前已經學過許多的模型，相信大家對整體流程應該比較掌握了，這次作業請改用**手寫辨識資料集**，步驟流程都是一樣的，請試著自己撰寫程式碼來完成所有步驟"
   ]
  },
  {
   "cell_type": "code",
   "execution_count": 1,
   "metadata": {},
   "outputs": [],
   "source": [
    "from sklearn import datasets, metrics\n",
    "from sklearn.ensemble import GradientBoostingClassifier\n",
    "from sklearn.model_selection import train_test_split\n",
    "digits = datasets.load_digits()"
   ]
  },
  {
   "cell_type": "code",
   "execution_count": 2,
   "metadata": {},
   "outputs": [],
   "source": [
    "# 切分訓練集/測試集\n",
    "x_train, x_test, y_train, y_test = train_test_split(digits.data, digits.target, test_size=0.25, random_state=4)\n",
    "\n",
    "# 建立模型\n",
    "clf = GradientBoostingClassifier(loss=\"deviance\", learning_rate=0.5, n_estimators=100)\n",
    "\n",
    "# 訓練模型\n",
    "clf.fit(x_train, y_train)\n",
    "\n",
    "# 預測測試集\n",
    "y_pred = clf.predict(x_test)"
   ]
  },
  {
   "cell_type": "code",
   "execution_count": 3,
   "metadata": {},
   "outputs": [
    {
     "name": "stdout",
     "output_type": "stream",
     "text": [
      "Acuuracy:  0.9711111111111111\n"
     ]
    }
   ],
   "source": [
    "acc = metrics.accuracy_score(y_test, y_pred)\n",
    "print(\"Acuuracy: \", acc)"
   ]
  },
  {
   "cell_type": "code",
   "execution_count": 4,
   "metadata": {},
   "outputs": [
    {
     "name": "stdout",
     "output_type": "stream",
     "text": [
      "Feature importance:  [0.00000000e+00 1.15538493e-03 7.83430234e-03 4.03460043e-03\n",
      " 2.44932899e-03 5.66353756e-02 3.74493608e-03 5.84662069e-03\n",
      " 0.00000000e+00 4.80425524e-03 1.78793877e-02 8.83805540e-05\n",
      " 3.18244286e-03 1.42864803e-02 1.54425151e-03 2.32011782e-05\n",
      " 1.23234170e-04 2.12737385e-03 7.92199526e-03 4.34003192e-02\n",
      " 1.79914037e-02 9.57673271e-02 7.29315899e-03 5.63799257e-04\n",
      " 7.43773973e-04 5.63591469e-03 5.33602843e-02 3.86958189e-02\n",
      " 4.10724126e-02 2.60808509e-02 5.40060001e-04 9.45483057e-04\n",
      " 0.00000000e+00 6.13377560e-02 3.93908401e-03 2.01498523e-03\n",
      " 7.16877716e-02 2.05960448e-02 3.25672640e-02 0.00000000e+00\n",
      " 0.00000000e+00 9.28215404e-03 7.99189395e-02 5.89672073e-02\n",
      " 8.68193193e-03 7.74305386e-03 8.46940454e-03 5.56887592e-07\n",
      " 0.00000000e+00 8.85008825e-04 4.57695171e-03 7.97353491e-03\n",
      " 8.79209887e-04 1.15981840e-02 5.21558589e-02 6.85085117e-04\n",
      " 0.00000000e+00 3.70485905e-04 1.25782858e-02 1.83740977e-03\n",
      " 5.04491588e-02 1.34878646e-03 1.04647870e-03 2.26372492e-02]\n"
     ]
    }
   ],
   "source": [
    "print(\"Feature importance: \", clf.feature_importances_)"
   ]
  },
  {
   "cell_type": "code",
   "execution_count": null,
   "metadata": {},
   "outputs": [],
   "source": []
  }
 ],
 "metadata": {
  "kernelspec": {
   "display_name": "Python 3",
   "language": "python",
   "name": "python3"
  },
  "language_info": {
   "codemirror_mode": {
    "name": "ipython",
    "version": 3
   },
   "file_extension": ".py",
   "mimetype": "text/x-python",
   "name": "python",
   "nbconvert_exporter": "python",
   "pygments_lexer": "ipython3",
   "version": "3.6.8"
  }
 },
 "nbformat": 4,
 "nbformat_minor": 2
}
