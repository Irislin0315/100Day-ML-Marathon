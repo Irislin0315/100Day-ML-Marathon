{
 "cells": [
  {
   "cell_type": "markdown",
   "metadata": {},
   "source": [
    "### 作業\n",
    "目前已經學過許多的模型，相信大家對整體流程應該比較掌握了，這次作業請改用**手寫辨識資料集**，步驟流程都是一樣的，請試著自己撰寫程式碼來完成所有步驟"
   ]
  },
  {
   "cell_type": "code",
   "execution_count": 1,
   "metadata": {},
   "outputs": [],
   "source": [
    "from sklearn import datasets, metrics\n",
    "from sklearn.ensemble import GradientBoostingClassifier\n",
    "from sklearn.model_selection import train_test_split\n",
    "digits = datasets.load_digits()"
   ]
  },
  {
   "cell_type": "code",
   "execution_count": 2,
   "metadata": {},
   "outputs": [],
   "source": [
    "# 切分訓練集/測試集\n",
    "x_train, x_test, y_train, y_test = train_test_split(digits.data, digits.target, test_size=0.25, random_state=4)\n",
    "\n",
    "# 建立模型\n",
    "clf = GradientBoostingClassifier()\n",
    "\n",
    "# 訓練模型\n",
    "clf.fit(x_train, y_train)\n",
    "\n",
    "# 預測測試集\n",
    "y_pred = clf.predict(x_test)"
   ]
  },
  {
   "cell_type": "code",
   "execution_count": 3,
   "metadata": {},
   "outputs": [
    {
     "name": "stdout",
     "output_type": "stream",
     "text": [
      "Acuuracy:  0.9666666666666667\n"
     ]
    }
   ],
   "source": [
    "acc = metrics.accuracy_score(y_test, y_pred)\n",
    "print(\"Acuuracy: \", acc)"
   ]
  },
  {
   "cell_type": "code",
   "execution_count": 4,
   "metadata": {},
   "outputs": [
    {
     "name": "stdout",
     "output_type": "stream",
     "text": [
      "Feature importance:  [0.00000000e+00 7.57642174e-04 7.76171605e-03 7.05998704e-03\n",
      " 2.04300963e-03 5.28924950e-02 1.00809587e-02 2.99131159e-04\n",
      " 0.00000000e+00 1.69173247e-03 1.10527193e-02 8.11065045e-04\n",
      " 5.76828012e-03 1.43831640e-02 1.91364670e-03 5.99347527e-04\n",
      " 4.18105075e-04 2.95926922e-03 1.12356048e-02 3.40855870e-02\n",
      " 2.48631388e-02 9.01445408e-02 6.57643558e-03 3.16766872e-08\n",
      " 1.66692665e-04 2.00691777e-03 4.78817725e-02 1.98752225e-02\n",
      " 3.63110337e-02 2.32174165e-02 8.95655551e-03 4.89019078e-04\n",
      " 0.00000000e+00 6.13253756e-02 4.02833728e-03 9.71605540e-04\n",
      " 7.04303348e-02 1.25565466e-02 2.01847211e-02 0.00000000e+00\n",
      " 0.00000000e+00 9.38209737e-03 8.80182161e-02 6.39588172e-02\n",
      " 1.21914995e-02 1.79151050e-02 1.64774409e-02 5.96707040e-04\n",
      " 0.00000000e+00 9.79468402e-04 7.37949430e-03 2.11861381e-02\n",
      " 1.08434583e-02 1.55843641e-02 2.21458267e-02 1.43300407e-04\n",
      " 0.00000000e+00 3.74678528e-04 3.02467771e-02 1.83321648e-03\n",
      " 4.95383509e-02 7.59346052e-03 1.87890562e-02 9.02336760e-03]\n"
     ]
    }
   ],
   "source": [
    "print(\"Feature importance: \", clf.feature_importances_)"
   ]
  },
  {
   "cell_type": "code",
   "execution_count": null,
   "metadata": {},
   "outputs": [],
   "source": []
  }
 ],
 "metadata": {
  "kernelspec": {
   "display_name": "Python 3",
   "language": "python",
   "name": "python3"
  },
  "language_info": {
   "codemirror_mode": {
    "name": "ipython",
    "version": 3
   },
   "file_extension": ".py",
   "mimetype": "text/x-python",
   "name": "python",
   "nbconvert_exporter": "python",
   "pygments_lexer": "ipython3",
   "version": "3.6.8"
  }
 },
 "nbformat": 4,
 "nbformat_minor": 2
}
