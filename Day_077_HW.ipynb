{
 "cells": [
  {
   "cell_type": "markdown",
   "metadata": {},
   "source": [
    "## Work\n",
    "1. 請將 Epoch 加到 500 個，並觀察 learning curve 的走勢\n",
    "2. 請將 Optimizer 換成 SGD，並觀察 learning curve 的走勢"
   ]
  },
  {
   "cell_type": "code",
   "execution_count": 1,
   "metadata": {},
   "outputs": [
    {
     "name": "stderr",
     "output_type": "stream",
     "text": [
      "Using TensorFlow backend.\n"
     ]
    }
   ],
   "source": [
    "import os\n",
    "import keras\n",
    "\n",
    "# 本作業可以不需使用 GPU, 將 GPU 設定為 \"無\" (若有 GPU 且想開啟，可設為 \"0\")\n",
    "os.environ[\"CUDA_VISIBLE_DEVICES\"] = \"\""
   ]
  },
  {
   "cell_type": "code",
   "execution_count": 2,
   "metadata": {},
   "outputs": [],
   "source": [
    "# 從 Keras 的內建功能中，取得 train 與 test 資料集\n",
    "train, test = keras.datasets.cifar10.load_data()"
   ]
  },
  {
   "cell_type": "code",
   "execution_count": 3,
   "metadata": {},
   "outputs": [],
   "source": [
    "# 將 X 與 Y 獨立放進變數\n",
    "x_train, y_train = train\n",
    "x_test, y_test = test\n",
    "# 資料前處理 - 標準化\n",
    "x_train = x_train / 255.\n",
    "x_test = x_test / 255.\n",
    "\n",
    "# 將資料從圖形 (RGB) 轉為向量 (Single Vector)\n",
    "x_train = x_train.reshape((len(x_train), -1))\n",
    "x_test = x_test.reshape((len(x_test), -1))\n",
    "\n",
    "# 將目標轉為 one-hot encoding\n",
    "y_train = keras.utils.to_categorical(y_train, num_classes=10)\n",
    "y_test = keras.utils.to_categorical(y_test, num_classes=10)"
   ]
  },
  {
   "cell_type": "code",
   "execution_count": 4,
   "metadata": {},
   "outputs": [
    {
     "name": "stdout",
     "output_type": "stream",
     "text": [
      "WARNING:tensorflow:From C:\\Users\\avalin\\Anaconda3\\lib\\site-packages\\tensorflow\\python\\framework\\op_def_library.py:263: colocate_with (from tensorflow.python.framework.ops) is deprecated and will be removed in a future version.\n",
      "Instructions for updating:\n",
      "Colocations handled automatically by placer.\n"
     ]
    }
   ],
   "source": [
    "def build_mlp():\n",
    "    input_layer = keras.layers.Input([x_train.shape[-1]])\n",
    "    x = keras.layers.Dense(units=512, activation=\"relu\")(input_layer)\n",
    "    x = keras.layers.Dense(units=256, activation=\"relu\")(x)\n",
    "    x = keras.layers.Dense(units=128, activation=\"relu\")(x)\n",
    "    out = keras.layers.Dense(units=10, activation=\"softmax\")(x)\n",
    "    \n",
    "    model = keras.models.Model(inputs=[input_layer], outputs=[out])\n",
    "    return model\n",
    "model = build_mlp()"
   ]
  },
  {
   "cell_type": "code",
   "execution_count": 5,
   "metadata": {},
   "outputs": [
    {
     "name": "stdout",
     "output_type": "stream",
     "text": [
      "_________________________________________________________________\n",
      "Layer (type)                 Output Shape              Param #   \n",
      "=================================================================\n",
      "input_1 (InputLayer)         (None, 3072)              0         \n",
      "_________________________________________________________________\n",
      "dense_1 (Dense)              (None, 512)               1573376   \n",
      "_________________________________________________________________\n",
      "dense_2 (Dense)              (None, 256)               131328    \n",
      "_________________________________________________________________\n",
      "dense_3 (Dense)              (None, 128)               32896     \n",
      "_________________________________________________________________\n",
      "dense_4 (Dense)              (None, 10)                1290      \n",
      "=================================================================\n",
      "Total params: 1,738,890\n",
      "Trainable params: 1,738,890\n",
      "Non-trainable params: 0\n",
      "_________________________________________________________________\n"
     ]
    }
   ],
   "source": [
    "model.summary()"
   ]
  },
  {
   "cell_type": "code",
   "execution_count": 6,
   "metadata": {},
   "outputs": [],
   "source": [
    "# Compile 模型\n",
    "optimizer = keras.optimizers.Adam(lr=0.001)\n",
    "model.compile(loss=\"categorical_crossentropy\", metrics=[\"accuracy\"], optimizer=optimizer)"
   ]
  },
  {
   "cell_type": "code",
   "execution_count": null,
   "metadata": {
    "scrolled": true
   },
   "outputs": [
    {
     "name": "stdout",
     "output_type": "stream",
     "text": [
      "WARNING:tensorflow:From C:\\Users\\avalin\\Anaconda3\\lib\\site-packages\\tensorflow\\python\\ops\\math_ops.py:3066: to_int32 (from tensorflow.python.ops.math_ops) is deprecated and will be removed in a future version.\n",
      "Instructions for updating:\n",
      "Use tf.cast instead.\n",
      "Train on 50000 samples, validate on 10000 samples\n",
      "Epoch 1/500\n",
      "50000/50000 [==============================] - 37s 735us/step - loss: 1.9390 - acc: 0.3002 - val_loss: 1.7652 - val_acc: 0.3626\n",
      "Epoch 2/500\n",
      "50000/50000 [==============================] - 35s 707us/step - loss: 1.7114 - acc: 0.3868 - val_loss: 1.6562 - val_acc: 0.4013\n",
      "Epoch 3/500\n",
      "50000/50000 [==============================] - 37s 736us/step - loss: 1.6179 - acc: 0.4216 - val_loss: 1.6473 - val_acc: 0.4119\n",
      "Epoch 4/500\n",
      "50000/50000 [==============================] - 36s 711us/step - loss: 1.5645 - acc: 0.4424 - val_loss: 1.5280 - val_acc: 0.4516\n",
      "Epoch 5/500\n",
      "50000/50000 [==============================] - 40s 801us/step - loss: 1.5075 - acc: 0.4638 - val_loss: 1.5564 - val_acc: 0.4441\n",
      "Epoch 6/500\n",
      "50000/50000 [==============================] - 36s 716us/step - loss: 1.4396 - acc: 0.4844 - val_loss: 1.4481 - val_acc: 0.4793\n",
      "Epoch 8/500\n",
      "50000/50000 [==============================] - 36s 718us/step - loss: 1.4188 - acc: 0.4917 - val_loss: 1.4994 - val_acc: 0.4612\n",
      "Epoch 9/500\n",
      "50000/50000 [==============================] - 34s 682us/step - loss: 1.3869 - acc: 0.5064 - val_loss: 1.5032 - val_acc: 0.4681\n",
      "Epoch 10/500\n",
      "50000/50000 [==============================] - 33s 661us/step - loss: 1.3638 - acc: 0.5147 - val_loss: 1.4393 - val_acc: 0.4908\n",
      "Epoch 11/500\n",
      "50000/50000 [==============================] - 35s 701us/step - loss: 1.3319 - acc: 0.5276 - val_loss: 1.4115 - val_acc: 0.4993\n",
      "Epoch 12/500\n",
      "50000/50000 [==============================] - 33s 667us/step - loss: 1.3103 - acc: 0.5355 - val_loss: 1.3842 - val_acc: 0.5059\n",
      "Epoch 13/500\n",
      "50000/50000 [==============================] - 27s 548us/step - loss: 1.2848 - acc: 0.5419 - val_loss: 1.3892 - val_acc: 0.5060\n",
      "Epoch 14/500\n",
      "50000/50000 [==============================] - 33s 658us/step - loss: 1.2710 - acc: 0.5489 - val_loss: 1.4206 - val_acc: 0.5008\n",
      "Epoch 15/500\n",
      "50000/50000 [==============================] - 38s 750us/step - loss: 1.2506 - acc: 0.5572 - val_loss: 1.4385 - val_acc: 0.4851\n",
      "Epoch 16/500\n",
      "50000/50000 [==============================] - 35s 702us/step - loss: 1.2388 - acc: 0.5611 - val_loss: 1.4053 - val_acc: 0.5063\n",
      "Epoch 17/500\n",
      "50000/50000 [==============================] - 43s 865us/step - loss: 1.2026 - acc: 0.5712 - val_loss: 1.3755 - val_acc: 0.5128\n",
      "Epoch 18/500\n",
      "50000/50000 [==============================] - 36s 714us/step - loss: 1.1880 - acc: 0.5762 - val_loss: 1.3679 - val_acc: 0.5164\n",
      "Epoch 19/500\n",
      "50000/50000 [==============================] - 36s 722us/step - loss: 1.1672 - acc: 0.5848 - val_loss: 1.3574 - val_acc: 0.5226\n",
      "Epoch 20/500\n",
      "50000/50000 [==============================] - 37s 731us/step - loss: 1.1485 - acc: 0.5915 - val_loss: 1.3867 - val_acc: 0.5160\n",
      "Epoch 21/500\n",
      "50000/50000 [==============================] - 40s 803us/step - loss: 1.1271 - acc: 0.5983 - val_loss: 1.3879 - val_acc: 0.5137\n",
      "Epoch 22/500\n",
      "50000/50000 [==============================] - 43s 868us/step - loss: 1.1126 - acc: 0.6065 - val_loss: 1.3496 - val_acc: 0.5255\n",
      "Epoch 23/500\n",
      "50000/50000 [==============================] - 42s 831us/step - loss: 1.0842 - acc: 0.6113 - val_loss: 1.3887 - val_acc: 0.5128\n",
      "Epoch 24/500\n",
      "50000/50000 [==============================] - 39s 772us/step - loss: 1.0576 - acc: 0.6235 - val_loss: 1.3574 - val_acc: 0.5312\n",
      "Epoch 25/500\n",
      "50000/50000 [==============================] - 39s 776us/step - loss: 1.0433 - acc: 0.6287 - val_loss: 1.3691 - val_acc: 0.5262\n",
      "Epoch 26/500\n",
      "50000/50000 [==============================] - 40s 803us/step - loss: 1.0354 - acc: 0.6300 - val_loss: 1.3931 - val_acc: 0.5223\n",
      "Epoch 27/500\n",
      "50000/50000 [==============================] - 43s 854us/step - loss: 1.0008 - acc: 0.6419 - val_loss: 1.3762 - val_acc: 0.5270\n",
      "Epoch 28/500\n",
      "50000/50000 [==============================] - 41s 814us/step - loss: 0.9911 - acc: 0.6458 - val_loss: 1.4627 - val_acc: 0.5126\n",
      "Epoch 29/500\n",
      "50000/50000 [==============================] - 43s 850us/step - loss: 0.9745 - acc: 0.6530 - val_loss: 1.4094 - val_acc: 0.5221\n",
      "Epoch 30/500\n",
      "50000/50000 [==============================] - 44s 888us/step - loss: 0.9576 - acc: 0.6568 - val_loss: 1.4101 - val_acc: 0.5217\n",
      "Epoch 31/500\n",
      "50000/50000 [==============================] - 43s 862us/step - loss: 0.9408 - acc: 0.6648 - val_loss: 1.4207 - val_acc: 0.5229\n",
      "Epoch 32/500\n",
      "50000/50000 [==============================] - 37s 739us/step - loss: 0.9283 - acc: 0.6686 - val_loss: 1.4334 - val_acc: 0.5209\n",
      "Epoch 33/500\n",
      "50000/50000 [==============================] - 35s 697us/step - loss: 0.8976 - acc: 0.6799 - val_loss: 1.4647 - val_acc: 0.5213\n",
      "Epoch 34/500\n",
      "50000/50000 [==============================] - 32s 640us/step - loss: 0.8908 - acc: 0.6807 - val_loss: 1.4633 - val_acc: 0.5251\n",
      "Epoch 35/500\n",
      "50000/50000 [==============================] - 36s 711us/step - loss: 0.8645 - acc: 0.6906 - val_loss: 1.5187 - val_acc: 0.5139\n",
      "Epoch 36/500\n",
      "50000/50000 [==============================] - 37s 744us/step - loss: 0.8595 - acc: 0.6933 - val_loss: 1.5024 - val_acc: 0.5220\n",
      "Epoch 37/500\n",
      "50000/50000 [==============================] - 38s 753us/step - loss: 0.8375 - acc: 0.7007 - val_loss: 1.5372 - val_acc: 0.5160\n",
      "Epoch 38/500\n",
      " 7680/50000 [===>..........................] - ETA: 28s - loss: 0.8056 - acc: 0.7135"
     ]
    }
   ],
   "source": [
    "# 將要訓練的 Epoch 數調高至500\n",
    "model.fit(x_train, y_train, \n",
    "          epochs=500, \n",
    "          batch_size=256, \n",
    "          validation_data=(x_test, y_test), \n",
    "          shuffle=True)"
   ]
  },
  {
   "cell_type": "code",
   "execution_count": null,
   "metadata": {},
   "outputs": [],
   "source": [
    "import matplotlib.pyplot as plt\n",
    "# 以視覺畫方式檢視訓練過程\n",
    "\n",
    "train_loss = model.history.history[\"loss\"]\n",
    "valid_loss = model.history.history[\"val_loss\"]\n",
    "\n",
    "train_acc = model.history.history[\"acc\"]\n",
    "valid_acc = model.history.history[\"val_acc\"]\n",
    "\n",
    "plt.plot(range(len(train_loss)), train_loss, label=\"train loss\")\n",
    "plt.plot(range(len(valid_loss)), valid_loss, label=\"valid loss\")\n",
    "plt.legend()\n",
    "plt.title(\"Loss\")\n",
    "plt.show()\n",
    "\n",
    "plt.plot(range(len(train_acc)), train_acc, label=\"train accuracy\")\n",
    "plt.plot(range(len(valid_acc)), valid_acc, label=\"valid accuracy\")\n",
    "plt.legend()\n",
    "plt.title(\"Accuracy\")\n",
    "plt.show()"
   ]
  },
  {
   "cell_type": "code",
   "execution_count": null,
   "metadata": {},
   "outputs": [],
   "source": []
  }
 ],
 "metadata": {
  "kernelspec": {
   "display_name": "Python 3",
   "language": "python",
   "name": "python3"
  },
  "language_info": {
   "codemirror_mode": {
    "name": "ipython",
    "version": 3
   },
   "file_extension": ".py",
   "mimetype": "text/x-python",
   "name": "python",
   "nbconvert_exporter": "python",
   "pygments_lexer": "ipython3",
   "version": "3.6.8"
  }
 },
 "nbformat": 4,
 "nbformat_minor": 2
}
