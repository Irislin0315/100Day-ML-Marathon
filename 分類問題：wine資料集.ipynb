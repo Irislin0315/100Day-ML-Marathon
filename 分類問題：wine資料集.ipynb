{
 "cells": [
  {
   "cell_type": "markdown",
   "metadata": {},
   "source": [
    "# 使用sklearn解決分類問題：wine資料集\n",
    "資料切分 --> 資料集成 --> 模型集成"
   ]
  },
  {
   "cell_type": "markdown",
   "metadata": {},
   "source": [
    "### 載入package及資料切分"
   ]
  },
  {
   "cell_type": "code",
   "execution_count": 1,
   "metadata": {},
   "outputs": [],
   "source": [
    "# 載入所需package\n",
    "from sklearn import datasets, metrics\n",
    "from sklearn.tree import DecisionTreeClassifier\n",
    "from sklearn.ensemble import RandomForestClassifier, GradientBoostingClassifier\n",
    "from sklearn.model_selection import train_test_split\n",
    "import numpy as np\n",
    "# 讀取資料集\n",
    "wine = datasets.load_wine()\n",
    "# 切分訓練集/測試集\n",
    "x_train, x_test, y_train, y_test = train_test_split(wine.data, wine.target, test_size=0.20, random_state=4)\n",
    "x_train = np.array(x_train, dtype = int) # sklearn默認整數型，故須調整\n",
    "x_test = np.array(x_test, dtype = int)\n",
    "y_train = np.array(y_train, dtype = int)\n",
    "y_test = np.array(y_test, dtype = int)"
   ]
  },
  {
   "cell_type": "markdown",
   "metadata": {},
   "source": [
    "## 一、資料面的集成\n",
    "決策樹(Decision Tree)、隨機森林(Random Forest)、梯度提升機(Gradient Boosting Machine)"
   ]
  },
  {
   "cell_type": "markdown",
   "metadata": {},
   "source": [
    "### 決策樹(Decision Tree)"
   ]
  },
  {
   "cell_type": "code",
   "execution_count": 2,
   "metadata": {},
   "outputs": [],
   "source": [
    "# 建立模型\n",
    "dt = DecisionTreeClassifier()\n",
    "\n",
    "# 訓練模型\n",
    "dt.fit(x_train, y_train)\n",
    "\n",
    "# 預測測試集\n",
    "dt_pred = dt.predict(x_test)"
   ]
  },
  {
   "cell_type": "code",
   "execution_count": 3,
   "metadata": {},
   "outputs": [
    {
     "name": "stdout",
     "output_type": "stream",
     "text": [
      "Acuuracy:  0.8888888888888888\n"
     ]
    }
   ],
   "source": [
    "acc = metrics.accuracy_score(y_test, dt_pred)\n",
    "print(\"Acuuracy: \", acc)"
   ]
  },
  {
   "cell_type": "code",
   "execution_count": 4,
   "metadata": {},
   "outputs": [
    {
     "name": "stdout",
     "output_type": "stream",
     "text": [
      "['alcohol', 'malic_acid', 'ash', 'alcalinity_of_ash', 'magnesium', 'total_phenols', 'flavanoids', 'nonflavanoid_phenols', 'proanthocyanins', 'color_intensity', 'hue', 'od280/od315_of_diluted_wines', 'proline']\n"
     ]
    }
   ],
   "source": [
    "print(wine.feature_names)"
   ]
  },
  {
   "cell_type": "code",
   "execution_count": 5,
   "metadata": {},
   "outputs": [
    {
     "name": "stdout",
     "output_type": "stream",
     "text": [
      "Feature importance:  [0.01724609 0.         0.         0.07577828 0.05572716 0.07753082\n",
      " 0.02569828 0.         0.         0.02874348 0.         0.30250884\n",
      " 0.41676703]\n"
     ]
    }
   ],
   "source": [
    "print(\"Feature importance: \", dt.feature_importances_)"
   ]
  },
  {
   "cell_type": "markdown",
   "metadata": {},
   "source": [
    "### 隨機森林(Random Forest)－Bagging"
   ]
  },
  {
   "cell_type": "code",
   "execution_count": 6,
   "metadata": {},
   "outputs": [],
   "source": [
    "# 建立模型 (使用 20 顆樹，每棵樹的最大深度為 4)\n",
    "rf = RandomForestClassifier(criterion='gini', n_estimators=20, max_features=\"auto\", max_depth=10, min_samples_split=2, min_samples_leaf=1)\n",
    "\n",
    "# 訓練模型\n",
    "rf.fit(x_train, y_train)\n",
    "\n",
    "# 預測測試集\n",
    "rf_pred = rf.predict(x_test)"
   ]
  },
  {
   "cell_type": "code",
   "execution_count": 7,
   "metadata": {},
   "outputs": [
    {
     "name": "stdout",
     "output_type": "stream",
     "text": [
      "Accuracy:  0.9722222222222222\n"
     ]
    }
   ],
   "source": [
    "acc = metrics.accuracy_score(y_test, rf_pred)\n",
    "print(\"Accuracy: \", acc)"
   ]
  },
  {
   "cell_type": "code",
   "execution_count": 8,
   "metadata": {},
   "outputs": [
    {
     "name": "stdout",
     "output_type": "stream",
     "text": [
      "['alcohol', 'malic_acid', 'ash', 'alcalinity_of_ash', 'magnesium', 'total_phenols', 'flavanoids', 'nonflavanoid_phenols', 'proanthocyanins', 'color_intensity', 'hue', 'od280/od315_of_diluted_wines', 'proline']\n"
     ]
    }
   ],
   "source": [
    "print(wine.feature_names)"
   ]
  },
  {
   "cell_type": "code",
   "execution_count": 9,
   "metadata": {},
   "outputs": [
    {
     "name": "stdout",
     "output_type": "stream",
     "text": [
      "Feature importance:  [0.16360144 0.0246827  0.00548946 0.05750955 0.05368809 0.03545283\n",
      " 0.1315707  0.         0.02676569 0.15854896 0.03485629 0.14089888\n",
      " 0.1669354 ]\n"
     ]
    }
   ],
   "source": [
    "print(\"Feature importance: \", rf.feature_importances_)"
   ]
  },
  {
   "cell_type": "markdown",
   "metadata": {},
   "source": [
    "### 梯度提升機(Gradient Boosting Machine)－Boosting"
   ]
  },
  {
   "cell_type": "code",
   "execution_count": 10,
   "metadata": {},
   "outputs": [],
   "source": [
    "# 建立模型\n",
    "gdbt = GradientBoostingClassifier(loss=\"deviance\", learning_rate=0.5, n_estimators=100)\n",
    "\n",
    "# 訓練模型\n",
    "gdbt.fit(x_train, y_train)\n",
    "\n",
    "# 預測測試集\n",
    "gdbt_pred = gdbt.predict(x_test)"
   ]
  },
  {
   "cell_type": "code",
   "execution_count": 11,
   "metadata": {},
   "outputs": [
    {
     "name": "stdout",
     "output_type": "stream",
     "text": [
      "Acuuracy:  0.9166666666666666\n"
     ]
    }
   ],
   "source": [
    "acc = metrics.accuracy_score(y_test, gdbt_pred)\n",
    "print(\"Acuuracy: \", acc)"
   ]
  },
  {
   "cell_type": "code",
   "execution_count": 12,
   "metadata": {},
   "outputs": [
    {
     "name": "stdout",
     "output_type": "stream",
     "text": [
      "['alcohol', 'malic_acid', 'ash', 'alcalinity_of_ash', 'magnesium', 'total_phenols', 'flavanoids', 'nonflavanoid_phenols', 'proanthocyanins', 'color_intensity', 'hue', 'od280/od315_of_diluted_wines', 'proline']\n"
     ]
    }
   ],
   "source": [
    "print(wine.feature_names)"
   ]
  },
  {
   "cell_type": "code",
   "execution_count": 13,
   "metadata": {},
   "outputs": [
    {
     "name": "stdout",
     "output_type": "stream",
     "text": [
      "Feature importance:  [5.05513742e-03 5.14337708e-03 3.71102534e-03 3.57947534e-02\n",
      " 4.33739974e-02 1.53649578e-02 8.15489482e-02 0.00000000e+00\n",
      " 4.78700699e-03 2.20813696e-01 1.37850761e-04 1.90539027e-01\n",
      " 3.93730223e-01]\n"
     ]
    }
   ],
   "source": [
    "print(\"Feature importance: \", gdbt.feature_importances_)"
   ]
  },
  {
   "cell_type": "markdown",
   "metadata": {},
   "source": [
    "## 二、 模型面的集成\n",
    "混合泛化(Blending)、堆疊泛化(Stacking)"
   ]
  },
  {
   "cell_type": "markdown",
   "metadata": {},
   "source": [
    "### 混合泛化(Blending)"
   ]
  },
  {
   "cell_type": "code",
   "execution_count": 14,
   "metadata": {},
   "outputs": [],
   "source": [
    "blending_pred = dt_pred*0.01 + rf_pred*0.8 + gdbt_pred*0.19\n",
    "\n",
    "def correct_pred(pred):\n",
    "    c =[]\n",
    "    for i in pred:\n",
    "        if i < 0.5:\n",
    "            c.append(0)\n",
    "        elif i < 1.5:\n",
    "            c.append(1)\n",
    "        else:\n",
    "            c.append(2)\n",
    "    return c\n",
    "\n",
    "correct_blending_pred = correct_pred(blending_pred)"
   ]
  },
  {
   "cell_type": "code",
   "execution_count": 15,
   "metadata": {},
   "outputs": [
    {
     "name": "stdout",
     "output_type": "stream",
     "text": [
      "Acuuracy:  0.9722222222222222\n"
     ]
    }
   ],
   "source": [
    "acc = metrics.accuracy_score(y_test, correct_blending_pred)\n",
    "print(\"Acuuracy: \", acc)"
   ]
  },
  {
   "cell_type": "markdown",
   "metadata": {},
   "source": [
    "### 堆疊泛化(Stacking)"
   ]
  },
  {
   "cell_type": "code",
   "execution_count": 16,
   "metadata": {},
   "outputs": [],
   "source": [
    "from mlxtend.classifier import StackingClassifier # 堆疊泛化所需套件\n",
    "\n",
    "meta_estimator = GradientBoostingClassifier(n_estimators=100, max_depth=4, learning_rate=0.1)\n",
    "stacking = StackingClassifier(classifiers=[dt, rf, gdbt], meta_classifier=meta_estimator)\n",
    "stacking.fit(x_train, y_train)\n",
    "stacking_pred = stacking.predict(x_test)"
   ]
  },
  {
   "cell_type": "code",
   "execution_count": 17,
   "metadata": {},
   "outputs": [
    {
     "name": "stdout",
     "output_type": "stream",
     "text": [
      "Acuuracy:  0.9166666666666666\n"
     ]
    }
   ],
   "source": [
    "acc = metrics.accuracy_score(y_test, stacking_pred)\n",
    "print(\"Acuuracy: \", acc)"
   ]
  },
  {
   "cell_type": "code",
   "execution_count": null,
   "metadata": {},
   "outputs": [],
   "source": []
  }
 ],
 "metadata": {
  "kernelspec": {
   "display_name": "Python 3",
   "language": "python",
   "name": "python3"
  },
  "language_info": {
   "codemirror_mode": {
    "name": "ipython",
    "version": 3
   },
   "file_extension": ".py",
   "mimetype": "text/x-python",
   "name": "python",
   "nbconvert_exporter": "python",
   "pygments_lexer": "ipython3",
   "version": "3.6.8"
  }
 },
 "nbformat": 4,
 "nbformat_minor": 2
}
