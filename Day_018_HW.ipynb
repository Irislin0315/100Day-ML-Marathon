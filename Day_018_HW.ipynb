{
 "cells": [
  {
   "cell_type": "markdown",
   "metadata": {
    "collapsed": true
   },
   "source": [
    "# 作業 : (Kaggle)鐵達尼生存預測"
   ]
  },
  {
   "cell_type": "markdown",
   "metadata": {},
   "source": [
    "# [作業目標]\n",
    "- 試著完成三種不同特徵類型的三種資料操作, 觀察結果\n",
    "- 思考一下, 這三種特徵類型, 哪一種應該最複雜/最難處理"
   ]
  },
  {
   "cell_type": "markdown",
   "metadata": {},
   "source": [
    "# [作業重點]\n",
    "- 完成剩餘的八種 類型 x 操作組合 (In[6]~In[13], Out[6]~Out[13])\n",
    "- 思考何種特徵類型, 應該最複雜"
   ]
  },
  {
   "cell_type": "code",
   "execution_count": 1,
   "metadata": {},
   "outputs": [
    {
     "data": {
      "text/plain": [
       "(891, 12)"
      ]
     },
     "execution_count": 1,
     "metadata": {},
     "output_type": "execute_result"
    }
   ],
   "source": [
    "# 載入基本套件\n",
    "import pandas as pd\n",
    "import numpy as np\n",
    "\n",
    "# 讀取訓練與測試資料\n",
    "data_path = 'data/'\n",
    "df_train = pd.read_csv(data_path + 'titanic_train.csv')\n",
    "df_test = pd.read_csv(data_path + 'titanic_test.csv')\n",
    "df_train.shape"
   ]
  },
  {
   "cell_type": "code",
   "execution_count": 2,
   "metadata": {},
   "outputs": [
    {
     "data": {
      "text/html": [
       "<div>\n",
       "<style scoped>\n",
       "    .dataframe tbody tr th:only-of-type {\n",
       "        vertical-align: middle;\n",
       "    }\n",
       "\n",
       "    .dataframe tbody tr th {\n",
       "        vertical-align: top;\n",
       "    }\n",
       "\n",
       "    .dataframe thead th {\n",
       "        text-align: right;\n",
       "    }\n",
       "</style>\n",
       "<table border=\"1\" class=\"dataframe\">\n",
       "  <thead>\n",
       "    <tr style=\"text-align: right;\">\n",
       "      <th></th>\n",
       "      <th>Pclass</th>\n",
       "      <th>Name</th>\n",
       "      <th>Sex</th>\n",
       "      <th>Age</th>\n",
       "      <th>SibSp</th>\n",
       "      <th>Parch</th>\n",
       "      <th>Ticket</th>\n",
       "      <th>Fare</th>\n",
       "      <th>Cabin</th>\n",
       "      <th>Embarked</th>\n",
       "    </tr>\n",
       "  </thead>\n",
       "  <tbody>\n",
       "    <tr>\n",
       "      <th>0</th>\n",
       "      <td>3</td>\n",
       "      <td>Braund, Mr. Owen Harris</td>\n",
       "      <td>male</td>\n",
       "      <td>22.0</td>\n",
       "      <td>1</td>\n",
       "      <td>0</td>\n",
       "      <td>A/5 21171</td>\n",
       "      <td>7.2500</td>\n",
       "      <td>NaN</td>\n",
       "      <td>S</td>\n",
       "    </tr>\n",
       "    <tr>\n",
       "      <th>1</th>\n",
       "      <td>1</td>\n",
       "      <td>Cumings, Mrs. John Bradley (Florence Briggs Th...</td>\n",
       "      <td>female</td>\n",
       "      <td>38.0</td>\n",
       "      <td>1</td>\n",
       "      <td>0</td>\n",
       "      <td>PC 17599</td>\n",
       "      <td>71.2833</td>\n",
       "      <td>C85</td>\n",
       "      <td>C</td>\n",
       "    </tr>\n",
       "    <tr>\n",
       "      <th>2</th>\n",
       "      <td>3</td>\n",
       "      <td>Heikkinen, Miss. Laina</td>\n",
       "      <td>female</td>\n",
       "      <td>26.0</td>\n",
       "      <td>0</td>\n",
       "      <td>0</td>\n",
       "      <td>STON/O2. 3101282</td>\n",
       "      <td>7.9250</td>\n",
       "      <td>NaN</td>\n",
       "      <td>S</td>\n",
       "    </tr>\n",
       "    <tr>\n",
       "      <th>3</th>\n",
       "      <td>1</td>\n",
       "      <td>Futrelle, Mrs. Jacques Heath (Lily May Peel)</td>\n",
       "      <td>female</td>\n",
       "      <td>35.0</td>\n",
       "      <td>1</td>\n",
       "      <td>0</td>\n",
       "      <td>113803</td>\n",
       "      <td>53.1000</td>\n",
       "      <td>C123</td>\n",
       "      <td>S</td>\n",
       "    </tr>\n",
       "    <tr>\n",
       "      <th>4</th>\n",
       "      <td>3</td>\n",
       "      <td>Allen, Mr. William Henry</td>\n",
       "      <td>male</td>\n",
       "      <td>35.0</td>\n",
       "      <td>0</td>\n",
       "      <td>0</td>\n",
       "      <td>373450</td>\n",
       "      <td>8.0500</td>\n",
       "      <td>NaN</td>\n",
       "      <td>S</td>\n",
       "    </tr>\n",
       "  </tbody>\n",
       "</table>\n",
       "</div>"
      ],
      "text/plain": [
       "   Pclass                                               Name     Sex   Age  \\\n",
       "0       3                            Braund, Mr. Owen Harris    male  22.0   \n",
       "1       1  Cumings, Mrs. John Bradley (Florence Briggs Th...  female  38.0   \n",
       "2       3                             Heikkinen, Miss. Laina  female  26.0   \n",
       "3       1       Futrelle, Mrs. Jacques Heath (Lily May Peel)  female  35.0   \n",
       "4       3                           Allen, Mr. William Henry    male  35.0   \n",
       "\n",
       "   SibSp  Parch            Ticket     Fare Cabin Embarked  \n",
       "0      1      0         A/5 21171   7.2500   NaN        S  \n",
       "1      1      0          PC 17599  71.2833   C85        C  \n",
       "2      0      0  STON/O2. 3101282   7.9250   NaN        S  \n",
       "3      1      0            113803  53.1000  C123        S  \n",
       "4      0      0            373450   8.0500   NaN        S  "
      ]
     },
     "execution_count": 2,
     "metadata": {},
     "output_type": "execute_result"
    }
   ],
   "source": [
    "# 重組資料成為訓練 / 預測用格式\n",
    "train_Y = df_train['Survived']\n",
    "ids = df_test['PassengerId']\n",
    "df_train = df_train.drop(['PassengerId', 'Survived'] , axis=1)\n",
    "df_test = df_test.drop(['PassengerId'] , axis=1)\n",
    "df = pd.concat([df_train,df_test])\n",
    "df.head()"
   ]
  },
  {
   "cell_type": "code",
   "execution_count": 3,
   "metadata": {},
   "outputs": [
    {
     "data": {
      "text/html": [
       "<div>\n",
       "<style scoped>\n",
       "    .dataframe tbody tr th:only-of-type {\n",
       "        vertical-align: middle;\n",
       "    }\n",
       "\n",
       "    .dataframe tbody tr th {\n",
       "        vertical-align: top;\n",
       "    }\n",
       "\n",
       "    .dataframe thead th {\n",
       "        text-align: right;\n",
       "    }\n",
       "</style>\n",
       "<table border=\"1\" class=\"dataframe\">\n",
       "  <thead>\n",
       "    <tr style=\"text-align: right;\">\n",
       "      <th></th>\n",
       "      <th>Column Type</th>\n",
       "      <th>Count</th>\n",
       "    </tr>\n",
       "  </thead>\n",
       "  <tbody>\n",
       "    <tr>\n",
       "      <th>0</th>\n",
       "      <td>int64</td>\n",
       "      <td>3</td>\n",
       "    </tr>\n",
       "    <tr>\n",
       "      <th>1</th>\n",
       "      <td>float64</td>\n",
       "      <td>2</td>\n",
       "    </tr>\n",
       "    <tr>\n",
       "      <th>2</th>\n",
       "      <td>object</td>\n",
       "      <td>5</td>\n",
       "    </tr>\n",
       "  </tbody>\n",
       "</table>\n",
       "</div>"
      ],
      "text/plain": [
       "  Column Type  Count\n",
       "0       int64      3\n",
       "1     float64      2\n",
       "2      object      5"
      ]
     },
     "execution_count": 3,
     "metadata": {},
     "output_type": "execute_result"
    }
   ],
   "source": [
    "# 秀出資料欄位的類型與數量\n",
    "dtype_df = df.dtypes.reset_index()\n",
    "dtype_df.columns = [\"Count\", \"Column Type\"]\n",
    "dtype_df = dtype_df.groupby(\"Column Type\").aggregate('count').reset_index()\n",
    "dtype_df"
   ]
  },
  {
   "cell_type": "code",
   "execution_count": 4,
   "metadata": {},
   "outputs": [
    {
     "name": "stdout",
     "output_type": "stream",
     "text": [
      "3 Integer Features : ['Pclass', 'SibSp', 'Parch']\n",
      "\n",
      "2 Float Features : ['Age', 'Fare']\n",
      "\n",
      "5 Object Features : ['Name', 'Sex', 'Ticket', 'Cabin', 'Embarked']\n"
     ]
    }
   ],
   "source": [
    "#確定只有 int64, float64, object 三種類型後, 分別將欄位名稱存於三個 list 中\n",
    "int_features = []\n",
    "float_features = []\n",
    "object_features = []\n",
    "for dtype, feature in zip(df.dtypes, df.columns):\n",
    "    if dtype == 'float64':\n",
    "        float_features.append(feature)\n",
    "    elif dtype == 'int64':\n",
    "        int_features.append(feature)\n",
    "    else:\n",
    "        object_features.append(feature)\n",
    "print(f'{len(int_features)} Integer Features : {int_features}\\n')\n",
    "print(f'{len(float_features)} Float Features : {float_features}\\n')\n",
    "print(f'{len(object_features)} Object Features : {object_features}')"
   ]
  },
  {
   "cell_type": "markdown",
   "metadata": {
    "collapsed": true
   },
   "source": [
    "# 作業1 \n",
    "* 試著執行作業程式，觀察三種類型 (int / float / object) 的欄位分別進行( 平均 mean / 最大值 Max / 相異值 nunique )  \n",
    "中的九次操作會有那些問題? 並試著解釋那些發生Error的程式區塊的原因?  \n",
    "\n",
    "# 作業2\n",
    "* 思考一下，試著舉出今天五種類型以外的一種或多種資料類型，你舉出的新類型是否可以歸在三大類中的某些大類?  \n",
    "所以三大類特徵中，哪一大類處理起來應該最複雜?"
   ]
  },
  {
   "cell_type": "markdown",
   "metadata": {},
   "source": [
    "### 作業1："
   ]
  },
  {
   "cell_type": "code",
   "execution_count": 5,
   "metadata": {},
   "outputs": [
    {
     "data": {
      "text/html": [
       "<div>\n",
       "<style scoped>\n",
       "    .dataframe tbody tr th:only-of-type {\n",
       "        vertical-align: middle;\n",
       "    }\n",
       "\n",
       "    .dataframe tbody tr th {\n",
       "        vertical-align: top;\n",
       "    }\n",
       "\n",
       "    .dataframe thead th {\n",
       "        text-align: right;\n",
       "    }\n",
       "</style>\n",
       "<table border=\"1\" class=\"dataframe\">\n",
       "  <thead>\n",
       "    <tr style=\"text-align: right;\">\n",
       "      <th></th>\n",
       "      <th>Pclass</th>\n",
       "      <th>SibSp</th>\n",
       "      <th>Parch</th>\n",
       "    </tr>\n",
       "  </thead>\n",
       "  <tbody>\n",
       "    <tr>\n",
       "      <th>0</th>\n",
       "      <td>3</td>\n",
       "      <td>1</td>\n",
       "      <td>0</td>\n",
       "    </tr>\n",
       "    <tr>\n",
       "      <th>1</th>\n",
       "      <td>1</td>\n",
       "      <td>1</td>\n",
       "      <td>0</td>\n",
       "    </tr>\n",
       "    <tr>\n",
       "      <th>2</th>\n",
       "      <td>3</td>\n",
       "      <td>0</td>\n",
       "      <td>0</td>\n",
       "    </tr>\n",
       "    <tr>\n",
       "      <th>3</th>\n",
       "      <td>1</td>\n",
       "      <td>1</td>\n",
       "      <td>0</td>\n",
       "    </tr>\n",
       "    <tr>\n",
       "      <th>4</th>\n",
       "      <td>3</td>\n",
       "      <td>0</td>\n",
       "      <td>0</td>\n",
       "    </tr>\n",
       "  </tbody>\n",
       "</table>\n",
       "</div>"
      ],
      "text/plain": [
       "   Pclass  SibSp  Parch\n",
       "0       3      1      0\n",
       "1       1      1      0\n",
       "2       3      0      0\n",
       "3       1      1      0\n",
       "4       3      0      0"
      ]
     },
     "execution_count": 5,
     "metadata": {},
     "output_type": "execute_result"
    }
   ],
   "source": [
    "# 請依序列出 三種特徵類型 (int / float / object) x 三種方法 (平均 mean / 最大值 Max / 相異值 nunique) 的其餘操作\n",
    "#1.int\n",
    "df[int_features].head()"
   ]
  },
  {
   "cell_type": "code",
   "execution_count": 6,
   "metadata": {},
   "outputs": [
    {
     "data": {
      "text/plain": [
       "Pclass    2.294882\n",
       "SibSp     0.498854\n",
       "Parch     0.385027\n",
       "dtype: float64"
      ]
     },
     "execution_count": 6,
     "metadata": {},
     "output_type": "execute_result"
    }
   ],
   "source": [
    "df[int_features].mean()"
   ]
  },
  {
   "cell_type": "code",
   "execution_count": 7,
   "metadata": {},
   "outputs": [
    {
     "data": {
      "text/plain": [
       "Pclass    3\n",
       "SibSp     8\n",
       "Parch     9\n",
       "dtype: int64"
      ]
     },
     "execution_count": 7,
     "metadata": {},
     "output_type": "execute_result"
    }
   ],
   "source": [
    "df[int_features].max()"
   ]
  },
  {
   "cell_type": "code",
   "execution_count": 8,
   "metadata": {},
   "outputs": [
    {
     "name": "stdout",
     "output_type": "stream",
     "text": [
      "Pclass:  [3, 1, 2]\n",
      "SibSp:  [1, 0, 3, 4, 2, 5, 8]\n",
      "Parch:  [0, 1, 2, 5, 3, 4, 6, 9]\n"
     ]
    }
   ],
   "source": [
    "list(set(df))\n",
    "print(\"Pclass: \",list(df[\"Pclass\"].unique()))\n",
    "print(\"SibSp: \", list(df[\"SibSp\"].unique()))\n",
    "print(\"Parch: \", list(df[\"Parch\"].unique()))"
   ]
  },
  {
   "cell_type": "code",
   "execution_count": 9,
   "metadata": {},
   "outputs": [
    {
     "data": {
      "text/html": [
       "<div>\n",
       "<style scoped>\n",
       "    .dataframe tbody tr th:only-of-type {\n",
       "        vertical-align: middle;\n",
       "    }\n",
       "\n",
       "    .dataframe tbody tr th {\n",
       "        vertical-align: top;\n",
       "    }\n",
       "\n",
       "    .dataframe thead th {\n",
       "        text-align: right;\n",
       "    }\n",
       "</style>\n",
       "<table border=\"1\" class=\"dataframe\">\n",
       "  <thead>\n",
       "    <tr style=\"text-align: right;\">\n",
       "      <th></th>\n",
       "      <th>Age</th>\n",
       "      <th>Fare</th>\n",
       "    </tr>\n",
       "  </thead>\n",
       "  <tbody>\n",
       "    <tr>\n",
       "      <th>0</th>\n",
       "      <td>22.0</td>\n",
       "      <td>7.2500</td>\n",
       "    </tr>\n",
       "    <tr>\n",
       "      <th>1</th>\n",
       "      <td>38.0</td>\n",
       "      <td>71.2833</td>\n",
       "    </tr>\n",
       "    <tr>\n",
       "      <th>2</th>\n",
       "      <td>26.0</td>\n",
       "      <td>7.9250</td>\n",
       "    </tr>\n",
       "    <tr>\n",
       "      <th>3</th>\n",
       "      <td>35.0</td>\n",
       "      <td>53.1000</td>\n",
       "    </tr>\n",
       "    <tr>\n",
       "      <th>4</th>\n",
       "      <td>35.0</td>\n",
       "      <td>8.0500</td>\n",
       "    </tr>\n",
       "  </tbody>\n",
       "</table>\n",
       "</div>"
      ],
      "text/plain": [
       "    Age     Fare\n",
       "0  22.0   7.2500\n",
       "1  38.0  71.2833\n",
       "2  26.0   7.9250\n",
       "3  35.0  53.1000\n",
       "4  35.0   8.0500"
      ]
     },
     "execution_count": 9,
     "metadata": {},
     "output_type": "execute_result"
    }
   ],
   "source": [
    "#2.float\n",
    "df[float_features].head()"
   ]
  },
  {
   "cell_type": "code",
   "execution_count": 10,
   "metadata": {},
   "outputs": [
    {
     "data": {
      "text/plain": [
       "Age     29.881138\n",
       "Fare    33.295479\n",
       "dtype: float64"
      ]
     },
     "execution_count": 10,
     "metadata": {},
     "output_type": "execute_result"
    }
   ],
   "source": [
    "df[float_features].mean()"
   ]
  },
  {
   "cell_type": "code",
   "execution_count": 11,
   "metadata": {},
   "outputs": [
    {
     "data": {
      "text/plain": [
       "Age      80.0000\n",
       "Fare    512.3292\n",
       "dtype: float64"
      ]
     },
     "execution_count": 11,
     "metadata": {},
     "output_type": "execute_result"
    }
   ],
   "source": [
    "df[float_features].max()"
   ]
  },
  {
   "cell_type": "code",
   "execution_count": 12,
   "metadata": {},
   "outputs": [
    {
     "name": "stdout",
     "output_type": "stream",
     "text": [
      "Age:  [22.0, 38.0, 26.0, 35.0, nan, 54.0, 2.0, 27.0, 14.0, 4.0, 58.0, 20.0, 39.0, 55.0, 31.0, 34.0, 15.0, 28.0, 8.0, 19.0, 40.0, 66.0, 42.0, 21.0, 18.0, 3.0, 7.0, 49.0, 29.0, 65.0, 28.5, 5.0, 11.0, 45.0, 17.0, 32.0, 16.0, 25.0, 0.83, 30.0, 33.0, 23.0, 24.0, 46.0, 59.0, 71.0, 37.0, 47.0, 14.5, 70.5, 32.5, 12.0, 9.0, 36.5, 51.0, 55.5, 40.5, 44.0, 1.0, 61.0, 56.0, 50.0, 36.0, 45.5, 20.5, 62.0, 41.0, 52.0, 63.0, 23.5, 0.92, 43.0, 60.0, 10.0, 64.0, 13.0, 48.0, 0.75, 53.0, 57.0, 80.0, 70.0, 24.5, 6.0, 0.67, 30.5, 0.42, 34.5, 74.0, 22.5, 18.5, 67.0, 76.0, 26.5, 60.5, 11.5, 0.33, 0.17, 38.5]\n",
      "Fare:  [7.25, 71.2833, 7.925, 53.1, 8.05, 8.4583, 51.8625, 21.075, 11.1333, 30.0708, 16.7, 26.55, 31.275, 7.8542, 16.0, 29.125, 13.0, 18.0, 7.225, 26.0, 8.0292, 35.5, 31.3875, 263.0, 7.8792, 7.8958, 27.7208, 146.5208, 7.75, 10.5, 82.1708, 52.0, 7.2292, 11.2417, 9.475, 21.0, 41.5792, 15.5, 21.6792, 17.8, 39.6875, 7.8, 76.7292, 61.9792, 27.75, 46.9, 80.0, 83.475, 27.9, 15.2458, 8.1583, 8.6625, 73.5, 14.4542, 56.4958, 7.65, 29.0, 12.475, 9.0, 9.5, 7.7875, 47.1, 15.85, 34.375, 61.175, 20.575, 34.6542, 63.3583, 23.0, 77.2875, 8.6542, 7.775, 24.15, 9.825, 14.4583, 247.5208, 7.1417, 22.3583, 6.975, 7.05, 14.5, 15.0458, 26.2833, 9.2167, 79.2, 6.75, 11.5, 36.75, 7.7958, 12.525, 66.6, 7.3125, 61.3792, 7.7333, 69.55, 16.1, 15.75, 20.525, 55.0, 25.925, 33.5, 30.6958, 25.4667, 28.7125, 0.0, 15.05, 39.0, 22.025, 50.0, 8.4042, 6.4958, 10.4625, 18.7875, 31.0, 113.275, 27.0, 76.2917, 90.0, 9.35, 13.5, 7.55, 26.25, 12.275, 7.125, 52.5542, 20.2125, 86.5, 512.3292, 79.65, 153.4625, 135.6333, 19.5, 29.7, 77.9583, 20.25, 78.85, 91.0792, 12.875, 8.85, 151.55, 30.5, 23.25, 12.35, 110.8833, 108.9, 24.0, 56.9292, 83.1583, 262.375, 14.0, 164.8667, 134.5, 6.2375, 57.9792, 28.5, 133.65, 15.9, 9.225, 35.0, 75.25, 69.3, 55.4417, 211.5, 4.0125, 227.525, 15.7417, 7.7292, 12.0, 120.0, 12.65, 18.75, 6.8583, 32.5, 7.875, 14.4, 55.9, 8.1125, 81.8583, 19.2583, 19.9667, 89.1042, 38.5, 7.725, 13.7917, 9.8375, 7.0458, 7.5208, 12.2875, 9.5875, 49.5042, 78.2667, 15.1, 7.6292, 22.525, 26.2875, 59.4, 7.4958, 34.0208, 93.5, 221.7792, 106.425, 49.5, 71.0, 13.8625, 7.8292, 39.6, 17.4, 51.4792, 26.3875, 30.0, 40.125, 8.7125, 15.0, 33.0, 42.4, 15.55, 65.0, 32.3208, 7.0542, 8.4333, 25.5875, 9.8417, 8.1375, 10.1708, 211.3375, 57.0, 13.4167, 7.7417, 9.4833, 7.7375, 8.3625, 23.45, 25.9292, 8.6833, 8.5167, 7.8875, 37.0042, 6.45, 6.95, 8.3, 6.4375, 39.4, 14.1083, 13.8583, 50.4958, 5.0, 9.8458, 10.5167, 7.0, 9.6875, 82.2667, 3.1708, 31.6833, 31.5, 57.75, 7.85, 60.0, 15.0333, 15.5792, 28.5375, 25.7, 10.7083, 13.9, 7.8208, 7.7792, 31.6792, 7.2833, 75.2417, nan, 12.1833, 13.775, 8.9625, 25.7417, 42.5, 27.4458, 136.7792, 9.325, 12.7375, 45.5, 7.575, 7.5792, 7.7208]\n"
     ]
    }
   ],
   "source": [
    "list(set(df))\n",
    "print(\"Age: \",list(df[\"Age\"].unique()))\n",
    "print(\"Fare: \", list(df[\"Fare\"].unique()))"
   ]
  },
  {
   "cell_type": "code",
   "execution_count": 13,
   "metadata": {},
   "outputs": [
    {
     "data": {
      "text/html": [
       "<div>\n",
       "<style scoped>\n",
       "    .dataframe tbody tr th:only-of-type {\n",
       "        vertical-align: middle;\n",
       "    }\n",
       "\n",
       "    .dataframe tbody tr th {\n",
       "        vertical-align: top;\n",
       "    }\n",
       "\n",
       "    .dataframe thead th {\n",
       "        text-align: right;\n",
       "    }\n",
       "</style>\n",
       "<table border=\"1\" class=\"dataframe\">\n",
       "  <thead>\n",
       "    <tr style=\"text-align: right;\">\n",
       "      <th></th>\n",
       "      <th>Name</th>\n",
       "      <th>Sex</th>\n",
       "      <th>Ticket</th>\n",
       "      <th>Cabin</th>\n",
       "      <th>Embarked</th>\n",
       "    </tr>\n",
       "  </thead>\n",
       "  <tbody>\n",
       "    <tr>\n",
       "      <th>0</th>\n",
       "      <td>Braund, Mr. Owen Harris</td>\n",
       "      <td>male</td>\n",
       "      <td>A/5 21171</td>\n",
       "      <td>NaN</td>\n",
       "      <td>S</td>\n",
       "    </tr>\n",
       "    <tr>\n",
       "      <th>1</th>\n",
       "      <td>Cumings, Mrs. John Bradley (Florence Briggs Th...</td>\n",
       "      <td>female</td>\n",
       "      <td>PC 17599</td>\n",
       "      <td>C85</td>\n",
       "      <td>C</td>\n",
       "    </tr>\n",
       "    <tr>\n",
       "      <th>2</th>\n",
       "      <td>Heikkinen, Miss. Laina</td>\n",
       "      <td>female</td>\n",
       "      <td>STON/O2. 3101282</td>\n",
       "      <td>NaN</td>\n",
       "      <td>S</td>\n",
       "    </tr>\n",
       "    <tr>\n",
       "      <th>3</th>\n",
       "      <td>Futrelle, Mrs. Jacques Heath (Lily May Peel)</td>\n",
       "      <td>female</td>\n",
       "      <td>113803</td>\n",
       "      <td>C123</td>\n",
       "      <td>S</td>\n",
       "    </tr>\n",
       "    <tr>\n",
       "      <th>4</th>\n",
       "      <td>Allen, Mr. William Henry</td>\n",
       "      <td>male</td>\n",
       "      <td>373450</td>\n",
       "      <td>NaN</td>\n",
       "      <td>S</td>\n",
       "    </tr>\n",
       "  </tbody>\n",
       "</table>\n",
       "</div>"
      ],
      "text/plain": [
       "                                                Name     Sex  \\\n",
       "0                            Braund, Mr. Owen Harris    male   \n",
       "1  Cumings, Mrs. John Bradley (Florence Briggs Th...  female   \n",
       "2                             Heikkinen, Miss. Laina  female   \n",
       "3       Futrelle, Mrs. Jacques Heath (Lily May Peel)  female   \n",
       "4                           Allen, Mr. William Henry    male   \n",
       "\n",
       "             Ticket Cabin Embarked  \n",
       "0         A/5 21171   NaN        S  \n",
       "1          PC 17599   C85        C  \n",
       "2  STON/O2. 3101282   NaN        S  \n",
       "3            113803  C123        S  \n",
       "4            373450   NaN        S  "
      ]
     },
     "execution_count": 13,
     "metadata": {},
     "output_type": "execute_result"
    }
   ],
   "source": [
    "#3.object\n",
    "df[object_features].head()"
   ]
  },
  {
   "cell_type": "code",
   "execution_count": 14,
   "metadata": {},
   "outputs": [
    {
     "name": "stdout",
     "output_type": "stream",
     "text": [
      "Name:  ['Braund, Mr. Owen Harris', 'Cumings, Mrs. John Bradley (Florence Briggs Thayer)', 'Heikkinen, Miss. Laina', 'Futrelle, Mrs. Jacques Heath (Lily May Peel)', 'Allen, Mr. William Henry', 'Moran, Mr. James', 'McCarthy, Mr. Timothy J', 'Palsson, Master. Gosta Leonard', 'Johnson, Mrs. Oscar W (Elisabeth Vilhelmina Berg)', 'Nasser, Mrs. Nicholas (Adele Achem)', 'Sandstrom, Miss. Marguerite Rut', 'Bonnell, Miss. Elizabeth', 'Saundercock, Mr. William Henry', 'Andersson, Mr. Anders Johan', 'Vestrom, Miss. Hulda Amanda Adolfina', 'Hewlett, Mrs. (Mary D Kingcome) ', 'Rice, Master. Eugene', 'Williams, Mr. Charles Eugene', 'Vander Planke, Mrs. Julius (Emelia Maria Vandemoortele)', 'Masselmani, Mrs. Fatima', 'Fynney, Mr. Joseph J', 'Beesley, Mr. Lawrence', 'McGowan, Miss. Anna \"Annie\"', 'Sloper, Mr. William Thompson', 'Palsson, Miss. Torborg Danira', 'Asplund, Mrs. Carl Oscar (Selma Augusta Emilia Johansson)', 'Emir, Mr. Farred Chehab', 'Fortune, Mr. Charles Alexander', 'O\\'Dwyer, Miss. Ellen \"Nellie\"', 'Todoroff, Mr. Lalio', 'Uruchurtu, Don. Manuel E', 'Spencer, Mrs. William Augustus (Marie Eugenie)', 'Glynn, Miss. Mary Agatha', 'Wheadon, Mr. Edward H', 'Meyer, Mr. Edgar Joseph', 'Holverson, Mr. Alexander Oskar', 'Mamee, Mr. Hanna', 'Cann, Mr. Ernest Charles', 'Vander Planke, Miss. Augusta Maria', 'Nicola-Yarred, Miss. Jamila', 'Ahlin, Mrs. Johan (Johanna Persdotter Larsson)', 'Turpin, Mrs. William John Robert (Dorothy Ann Wonnacott)', 'Kraeff, Mr. Theodor', 'Laroche, Miss. Simonne Marie Anne Andree', 'Devaney, Miss. Margaret Delia', 'Rogers, Mr. William John', 'Lennon, Mr. Denis', \"O'Driscoll, Miss. Bridget\", 'Samaan, Mr. Youssef', 'Arnold-Franchi, Mrs. Josef (Josefine Franchi)', 'Panula, Master. Juha Niilo', 'Nosworthy, Mr. Richard Cater', 'Harper, Mrs. Henry Sleeper (Myna Haxtun)', 'Faunthorpe, Mrs. Lizzie (Elizabeth Anne Wilkinson)', 'Ostby, Mr. Engelhart Cornelius', 'Woolner, Mr. Hugh', 'Rugg, Miss. Emily', 'Novel, Mr. Mansouer', 'West, Miss. Constance Mirium', 'Goodwin, Master. William Frederick', 'Sirayanian, Mr. Orsen', 'Icard, Miss. Amelie', 'Harris, Mr. Henry Birkhardt', 'Skoog, Master. Harald', 'Stewart, Mr. Albert A', 'Moubarek, Master. Gerios', 'Nye, Mrs. (Elizabeth Ramell)', 'Crease, Mr. Ernest James', 'Andersson, Miss. Erna Alexandra', 'Kink, Mr. Vincenz', 'Jenkin, Mr. Stephen Curnow', 'Goodwin, Miss. Lillian Amy', 'Hood, Mr. Ambrose Jr', 'Chronopoulos, Mr. Apostolos', 'Bing, Mr. Lee', 'Moen, Mr. Sigurd Hansen', 'Staneff, Mr. Ivan', 'Moutal, Mr. Rahamin Haim', 'Caldwell, Master. Alden Gates', 'Dowdell, Miss. Elizabeth', 'Waelens, Mr. Achille', 'Sheerlinck, Mr. Jan Baptist', 'McDermott, Miss. Brigdet Delia', 'Carrau, Mr. Francisco M', 'Ilett, Miss. Bertha', 'Backstrom, Mrs. Karl Alfred (Maria Mathilda Gustafsson)', 'Ford, Mr. William Neal', 'Slocovski, Mr. Selman Francis', 'Fortune, Miss. Mabel Helen', 'Celotti, Mr. Francesco', 'Christmann, Mr. Emil', 'Andreasson, Mr. Paul Edvin', 'Chaffee, Mr. Herbert Fuller', 'Dean, Mr. Bertram Frank', 'Coxon, Mr. Daniel', 'Shorney, Mr. Charles Joseph', 'Goldschmidt, Mr. George B', 'Greenfield, Mr. William Bertram', 'Doling, Mrs. John T (Ada Julia Bone)', 'Kantor, Mr. Sinai', 'Petranec, Miss. Matilda', 'Petroff, Mr. Pastcho (\"Pentcho\")', 'White, Mr. Richard Frasar', 'Johansson, Mr. Gustaf Joel', 'Gustafsson, Mr. Anders Vilhelm', 'Mionoff, Mr. Stoytcho', 'Salkjelsvik, Miss. Anna Kristine', 'Moss, Mr. Albert Johan', 'Rekic, Mr. Tido', 'Moran, Miss. Bertha', 'Porter, Mr. Walter Chamberlain', 'Zabour, Miss. Hileni', 'Barton, Mr. David John', 'Jussila, Miss. Katriina', 'Attalah, Miss. Malake', 'Pekoniemi, Mr. Edvard', 'Connors, Mr. Patrick', 'Turpin, Mr. William John Robert', 'Baxter, Mr. Quigg Edmond', 'Andersson, Miss. Ellis Anna Maria', 'Hickman, Mr. Stanley George', 'Moore, Mr. Leonard Charles', 'Nasser, Mr. Nicholas', 'Webber, Miss. Susan', 'White, Mr. Percival Wayland', 'Nicola-Yarred, Master. Elias', 'McMahon, Mr. Martin', 'Madsen, Mr. Fridtjof Arne', 'Peter, Miss. Anna', 'Ekstrom, Mr. Johan', 'Drazenoic, Mr. Jozef', 'Coelho, Mr. Domingos Fernandeo', 'Robins, Mrs. Alexander A (Grace Charity Laury)', 'Weisz, Mrs. Leopold (Mathilde Francoise Pede)', 'Sobey, Mr. Samuel James Hayden', 'Richard, Mr. Emile', 'Newsom, Miss. Helen Monypeny', 'Futrelle, Mr. Jacques Heath', 'Osen, Mr. Olaf Elon', 'Giglio, Mr. Victor', 'Boulos, Mrs. Joseph (Sultana)', 'Nysten, Miss. Anna Sofia', 'Hakkarainen, Mrs. Pekka Pietari (Elin Matilda Dolck)', 'Burke, Mr. Jeremiah', 'Andrew, Mr. Edgardo Samuel', 'Nicholls, Mr. Joseph Charles', 'Andersson, Mr. August Edvard (\"Wennerstrom\")', 'Ford, Miss. Robina Maggie \"Ruby\"', 'Navratil, Mr. Michel (\"Louis M Hoffman\")', 'Byles, Rev. Thomas Roussel Davids', 'Bateman, Rev. Robert James', 'Pears, Mrs. Thomas (Edith Wearne)', 'Meo, Mr. Alfonzo', 'van Billiard, Mr. Austin Blyler', 'Olsen, Mr. Ole Martin', 'Williams, Mr. Charles Duane', 'Gilnagh, Miss. Katherine \"Katie\"', 'Corn, Mr. Harry', 'Smiljanic, Mr. Mile', 'Sage, Master. Thomas Henry', 'Cribb, Mr. John Hatfield', 'Watt, Mrs. James (Elizabeth \"Bessie\" Inglis Milne)', 'Bengtsson, Mr. John Viktor', 'Calic, Mr. Jovo', 'Panula, Master. Eino Viljami', 'Goldsmith, Master. Frank John William \"Frankie\"', 'Chibnall, Mrs. (Edith Martha Bowerman)', 'Skoog, Mrs. William (Anna Bernhardina Karlsson)', 'Baumann, Mr. John D', 'Ling, Mr. Lee', 'Van der hoef, Mr. Wyckoff', 'Rice, Master. Arthur', 'Johnson, Miss. Eleanor Ileen', 'Sivola, Mr. Antti Wilhelm', 'Smith, Mr. James Clinch', 'Klasen, Mr. Klas Albin', 'Lefebre, Master. Henry Forbes', 'Isham, Miss. Ann Elizabeth', 'Hale, Mr. Reginald', 'Leonard, Mr. Lionel', 'Sage, Miss. Constance Gladys', 'Pernot, Mr. Rene', 'Asplund, Master. Clarence Gustaf Hugo', 'Becker, Master. Richard F', 'Kink-Heilmann, Miss. Luise Gretchen', 'Rood, Mr. Hugh Roscoe', 'O\\'Brien, Mrs. Thomas (Johanna \"Hannah\" Godfrey)', 'Romaine, Mr. Charles Hallace (\"Mr C Rolmane\")', 'Bourke, Mr. John', 'Turcin, Mr. Stjepan', 'Pinsky, Mrs. (Rosa)', 'Carbines, Mr. William', 'Andersen-Jensen, Miss. Carla Christine Nielsine', 'Navratil, Master. Michel M', 'Brown, Mrs. James Joseph (Margaret Tobin)', 'Lurette, Miss. Elise', 'Mernagh, Mr. Robert', 'Olsen, Mr. Karl Siegwart Andreas', 'Madigan, Miss. Margaret \"Maggie\"', 'Yrois, Miss. Henriette (\"Mrs Harbeck\")', 'Vande Walle, Mr. Nestor Cyriel', 'Sage, Mr. Frederick', 'Johanson, Mr. Jakob Alfred', 'Youseff, Mr. Gerious', 'Cohen, Mr. Gurshon \"Gus\"', 'Strom, Miss. Telma Matilda', 'Backstrom, Mr. Karl Alfred', 'Albimona, Mr. Nassef Cassem', 'Carr, Miss. Helen \"Ellen\"', 'Blank, Mr. Henry', 'Ali, Mr. Ahmed', 'Cameron, Miss. Clear Annie', 'Perkin, Mr. John Henry', 'Givard, Mr. Hans Kristensen', 'Kiernan, Mr. Philip', 'Newell, Miss. Madeleine', 'Honkanen, Miss. Eliina', 'Jacobsohn, Mr. Sidney Samuel', 'Bazzani, Miss. Albina', 'Harris, Mr. Walter', 'Sunderland, Mr. Victor Francis', 'Bracken, Mr. James H', 'Green, Mr. George Henry', 'Nenkoff, Mr. Christo', 'Hoyt, Mr. Frederick Maxfield', 'Berglund, Mr. Karl Ivar Sven', 'Mellors, Mr. William John', 'Lovell, Mr. John Hall (\"Henry\")', 'Fahlstrom, Mr. Arne Jonas', 'Lefebre, Miss. Mathilde', 'Harris, Mrs. Henry Birkhardt (Irene Wallach)', 'Larsson, Mr. Bengt Edvin', 'Sjostedt, Mr. Ernst Adolf', 'Asplund, Miss. Lillian Gertrud', 'Leyson, Mr. Robert William Norman', 'Harknett, Miss. Alice Phoebe', 'Hold, Mr. Stephen', 'Collyer, Miss. Marjorie \"Lottie\"', 'Pengelly, Mr. Frederick William', 'Hunt, Mr. George Henry', 'Zabour, Miss. Thamine', 'Murphy, Miss. Katherine \"Kate\"', 'Coleridge, Mr. Reginald Charles', 'Maenpaa, Mr. Matti Alexanteri', 'Attalah, Mr. Sleiman', 'Minahan, Dr. William Edward', 'Lindahl, Miss. Agda Thorilda Viktoria', 'Hamalainen, Mrs. William (Anna)', 'Beckwith, Mr. Richard Leonard', 'Carter, Rev. Ernest Courtenay', 'Reed, Mr. James George', 'Strom, Mrs. Wilhelm (Elna Matilda Persson)', 'Stead, Mr. William Thomas', 'Lobb, Mr. William Arthur', 'Rosblom, Mrs. Viktor (Helena Wilhelmina)', 'Touma, Mrs. Darwis (Hanne Youssef Razi)', 'Thorne, Mrs. Gertrude Maybelle', 'Cherry, Miss. Gladys', 'Ward, Miss. Anna', 'Parrish, Mrs. (Lutie Davis)', 'Smith, Mr. Thomas', 'Asplund, Master. Edvin Rojj Felix', 'Taussig, Mr. Emil', 'Harrison, Mr. William', 'Henry, Miss. Delia', 'Reeves, Mr. David', 'Panula, Mr. Ernesti Arvid', 'Persson, Mr. Ernst Ulrik', 'Graham, Mrs. William Thompson (Edith Junkins)', 'Bissette, Miss. Amelia', 'Cairns, Mr. Alexander', 'Tornquist, Mr. William Henry', 'Mellinger, Mrs. (Elizabeth Anne Maidment)', 'Natsch, Mr. Charles H', 'Healy, Miss. Hanora \"Nora\"', 'Andrews, Miss. Kornelia Theodosia', 'Lindblom, Miss. Augusta Charlotta', 'Parkes, Mr. Francis \"Frank\"', 'Rice, Master. Eric', 'Abbott, Mrs. Stanton (Rosa Hunt)', 'Duane, Mr. Frank', 'Olsson, Mr. Nils Johan Goransson', 'de Pelsmaeker, Mr. Alfons', 'Dorking, Mr. Edward Arthur', 'Smith, Mr. Richard William', 'Stankovic, Mr. Ivan', 'de Mulder, Mr. Theodore', 'Naidenoff, Mr. Penko', 'Hosono, Mr. Masabumi', 'Connolly, Miss. Kate', 'Barber, Miss. Ellen \"Nellie\"', 'Bishop, Mrs. Dickinson H (Helen Walton)', 'Levy, Mr. Rene Jacques', 'Haas, Miss. Aloisia', 'Mineff, Mr. Ivan', 'Lewy, Mr. Ervin G', 'Hanna, Mr. Mansour', 'Allison, Miss. Helen Loraine', 'Saalfeld, Mr. Adolphe', 'Baxter, Mrs. James (Helene DeLaudeniere Chaput)', 'Kelly, Miss. Anna Katherine \"Annie Kate\"', 'McCoy, Mr. Bernard', 'Johnson, Mr. William Cahoone Jr', 'Keane, Miss. Nora A', 'Williams, Mr. Howard Hugh \"Harry\"', 'Allison, Master. Hudson Trevor', 'Fleming, Miss. Margaret', 'Penasco y Castellana, Mrs. Victor de Satode (Maria Josefa Perez de Soto y Vallejo)', 'Abelson, Mr. Samuel', 'Francatelli, Miss. Laura Mabel', 'Hays, Miss. Margaret Bechstein', 'Ryerson, Miss. Emily Borie', 'Lahtinen, Mrs. William (Anna Sylfven)', 'Hendekovic, Mr. Ignjac', 'Hart, Mr. Benjamin', 'Nilsson, Miss. Helmina Josefina', 'Kantor, Mrs. Sinai (Miriam Sternin)', 'Moraweck, Dr. Ernest', 'Wick, Miss. Mary Natalie', 'Spedden, Mrs. Frederic Oakley (Margaretta Corning Stone)', 'Dennis, Mr. Samuel', 'Danoff, Mr. Yoto', 'Slayter, Miss. Hilda Mary', 'Caldwell, Mrs. Albert Francis (Sylvia Mae Harbaugh)', 'Sage, Mr. George John Jr', 'Young, Miss. Marie Grice', 'Nysveen, Mr. Johan Hansen', 'Ball, Mrs. (Ada E Hall)', 'Goldsmith, Mrs. Frank John (Emily Alice Brown)', 'Hippach, Miss. Jean Gertrude', 'McCoy, Miss. Agnes', 'Partner, Mr. Austen', 'Graham, Mr. George Edward', 'Vander Planke, Mr. Leo Edmondus', 'Frauenthal, Mrs. Henry William (Clara Heinsheimer)', 'Denkoff, Mr. Mitto', 'Pears, Mr. Thomas Clinton', 'Burns, Miss. Elizabeth Margaret', 'Dahl, Mr. Karl Edwart', 'Blackwell, Mr. Stephen Weart', 'Navratil, Master. Edmond Roger', 'Fortune, Miss. Alice Elizabeth', 'Collander, Mr. Erik Gustaf', 'Sedgwick, Mr. Charles Frederick Waddington', 'Fox, Mr. Stanley Hubert', 'Brown, Miss. Amelia \"Mildred\"', 'Smith, Miss. Marion Elsie', 'Davison, Mrs. Thomas Henry (Mary E Finck)', 'Coutts, Master. William Loch \"William\"', 'Dimic, Mr. Jovan', 'Odahl, Mr. Nils Martin', 'Williams-Lambert, Mr. Fletcher Fellows', 'Elias, Mr. Tannous', 'Arnold-Franchi, Mr. Josef', 'Yousif, Mr. Wazli', 'Vanden Steen, Mr. Leo Peter', 'Bowerman, Miss. Elsie Edith', 'Funk, Miss. Annie Clemmer', 'McGovern, Miss. Mary', 'Mockler, Miss. Helen Mary \"Ellie\"', 'Skoog, Mr. Wilhelm', 'del Carlo, Mr. Sebastiano', 'Barbara, Mrs. (Catherine David)', 'Asim, Mr. Adola', \"O'Brien, Mr. Thomas\", 'Adahl, Mr. Mauritz Nils Martin', 'Warren, Mrs. Frank Manley (Anna Sophia Atkinson)', 'Moussa, Mrs. (Mantoura Boulos)', 'Jermyn, Miss. Annie', 'Aubart, Mme. Leontine Pauline', 'Harder, Mr. George Achilles', 'Wiklund, Mr. Jakob Alfred', 'Beavan, Mr. William Thomas', 'Ringhini, Mr. Sante', 'Palsson, Miss. Stina Viola', 'Meyer, Mrs. Edgar Joseph (Leila Saks)', 'Landergren, Miss. Aurora Adelia', 'Widener, Mr. Harry Elkins', 'Betros, Mr. Tannous', 'Gustafsson, Mr. Karl Gideon', 'Bidois, Miss. Rosalie', 'Nakid, Miss. Maria (\"Mary\")', 'Tikkanen, Mr. Juho', 'Holverson, Mrs. Alexander Oskar (Mary Aline Towner)', 'Plotcharsky, Mr. Vasil', 'Davies, Mr. Charles Henry', 'Goodwin, Master. Sidney Leonard', 'Buss, Miss. Kate', 'Sadlier, Mr. Matthew', 'Lehmann, Miss. Bertha', 'Carter, Mr. William Ernest', 'Jansson, Mr. Carl Olof', 'Gustafsson, Mr. Johan Birger', 'Newell, Miss. Marjorie', 'Sandstrom, Mrs. Hjalmar (Agnes Charlotta Bengtsson)', 'Johansson, Mr. Erik', 'Olsson, Miss. Elina', 'McKane, Mr. Peter David', 'Pain, Dr. Alfred', 'Trout, Mrs. William H (Jessie L)', 'Niskanen, Mr. Juha', 'Adams, Mr. John', 'Jussila, Miss. Mari Aina', 'Hakkarainen, Mr. Pekka Pietari', 'Oreskovic, Miss. Marija', 'Gale, Mr. Shadrach', 'Widegren, Mr. Carl/Charles Peter', 'Richards, Master. William Rowe', 'Birkeland, Mr. Hans Martin Monsen', 'Lefebre, Miss. Ida', 'Sdycoff, Mr. Todor', 'Hart, Mr. Henry', 'Minahan, Miss. Daisy E', 'Cunningham, Mr. Alfred Fleming', 'Sundman, Mr. Johan Julian', 'Meek, Mrs. Thomas (Annie Louise Rowley)', 'Drew, Mrs. James Vivian (Lulu Thorne Christian)', 'Silven, Miss. Lyyli Karoliina', 'Matthews, Mr. William John', 'Van Impe, Miss. Catharina', 'Gheorgheff, Mr. Stanio', 'Charters, Mr. David', 'Zimmerman, Mr. Leo', 'Danbom, Mrs. Ernst Gilbert (Anna Sigrid Maria Brogren)', 'Rosblom, Mr. Viktor Richard', 'Wiseman, Mr. Phillippe', 'Clarke, Mrs. Charles V (Ada Maria Winfield)', 'Phillips, Miss. Kate Florence (\"Mrs Kate Louise Phillips Marshall\")', 'Flynn, Mr. James', 'Pickard, Mr. Berk (Berk Trembisky)', 'Bjornstrom-Steffansson, Mr. Mauritz Hakan', 'Thorneycroft, Mrs. Percival (Florence Kate White)', 'Louch, Mrs. Charles Alexander (Alice Adelaide Slow)', 'Kallio, Mr. Nikolai Erland', 'Silvey, Mr. William Baird', 'Carter, Miss. Lucile Polk', 'Ford, Miss. Doolina Margaret \"Daisy\"', 'Richards, Mrs. Sidney (Emily Hocking)', 'Fortune, Mr. Mark', 'Kvillner, Mr. Johan Henrik Johannesson', 'Hart, Mrs. Benjamin (Esther Ada Bloomfield)', 'Hampe, Mr. Leon', 'Petterson, Mr. Johan Emil', 'Reynaldo, Ms. Encarnacion', 'Johannesen-Bratthammer, Mr. Bernt', 'Dodge, Master. Washington', 'Mellinger, Miss. Madeleine Violet', 'Seward, Mr. Frederic Kimber', 'Baclini, Miss. Marie Catherine', 'Peuchen, Major. Arthur Godfrey', 'West, Mr. Edwy Arthur', 'Hagland, Mr. Ingvald Olai Olsen', 'Foreman, Mr. Benjamin Laventall', 'Goldenberg, Mr. Samuel L', 'Peduzzi, Mr. Joseph', 'Jalsevac, Mr. Ivan', 'Millet, Mr. Francis Davis', 'Kenyon, Mrs. Frederick R (Marion)', 'Toomey, Miss. Ellen', \"O'Connor, Mr. Maurice\", 'Anderson, Mr. Harry', 'Morley, Mr. William', 'Gee, Mr. Arthur H', 'Milling, Mr. Jacob Christian', 'Maisner, Mr. Simon', 'Goncalves, Mr. Manuel Estanslas', 'Campbell, Mr. William', 'Smart, Mr. John Montgomery', 'Scanlan, Mr. James', 'Baclini, Miss. Helene Barbara', 'Keefe, Mr. Arthur', 'Cacic, Mr. Luka', 'West, Mrs. Edwy Arthur (Ada Mary Worth)', 'Jerwan, Mrs. Amin S (Marie Marthe Thuillard)', 'Strandberg, Miss. Ida Sofia', 'Clifford, Mr. George Quincy', 'Renouf, Mr. Peter Henry', 'Braund, Mr. Lewis Richard', 'Karlsson, Mr. Nils August', 'Hirvonen, Miss. Hildur E', 'Goodwin, Master. Harold Victor', 'Frost, Mr. Anthony Wood \"Archie\"', 'Rouse, Mr. Richard Henry', 'Turkula, Mrs. (Hedwig)', 'Bishop, Mr. Dickinson H', 'Lefebre, Miss. Jeannie', 'Hoyt, Mrs. Frederick Maxfield (Jane Anne Forby)', 'Kent, Mr. Edward Austin', 'Somerton, Mr. Francis William', 'Coutts, Master. Eden Leslie \"Neville\"', 'Hagland, Mr. Konrad Mathias Reiersen', 'Windelov, Mr. Einar', 'Molson, Mr. Harry Markland', 'Artagaveytia, Mr. Ramon', 'Stanley, Mr. Edward Roland', 'Yousseff, Mr. Gerious', 'Eustis, Miss. Elizabeth Mussey', 'Shellard, Mr. Frederick William', 'Allison, Mrs. Hudson J C (Bessie Waldo Daniels)', 'Svensson, Mr. Olof', 'Calic, Mr. Petar', 'Canavan, Miss. Mary', \"O'Sullivan, Miss. Bridget Mary\", 'Laitinen, Miss. Kristina Sofia', 'Maioni, Miss. Roberta', 'Penasco y Castellana, Mr. Victor de Satode', 'Quick, Mrs. Frederick Charles (Jane Richards)', 'Bradley, Mr. George (\"George Arthur Brayton\")', 'Olsen, Mr. Henry Margido', 'Lang, Mr. Fang', 'Daly, Mr. Eugene Patrick', 'Webber, Mr. James', 'McGough, Mr. James Robert', 'Rothschild, Mrs. Martin (Elizabeth L. Barrett)', 'Coleff, Mr. Satio', 'Walker, Mr. William Anderson', 'Lemore, Mrs. (Amelia Milley)', 'Ryan, Mr. Patrick', 'Angle, Mrs. William A (Florence \"Mary\" Agnes Hughes)', 'Pavlovic, Mr. Stefo', 'Perreault, Miss. Anne', 'Vovk, Mr. Janko', 'Lahoud, Mr. Sarkis', 'Hippach, Mrs. Louis Albert (Ida Sophia Fischer)', 'Kassem, Mr. Fared', 'Farrell, Mr. James', 'Ridsdale, Miss. Lucy', 'Farthing, Mr. John', 'Salonen, Mr. Johan Werner', 'Hocking, Mr. Richard George', 'Quick, Miss. Phyllis May', 'Toufik, Mr. Nakli', 'Elias, Mr. Joseph Jr', 'Peter, Mrs. Catherine (Catherine Rizk)', 'Cacic, Miss. Marija', 'Hart, Miss. Eva Miriam', 'Butt, Major. Archibald Willingham', 'LeRoy, Miss. Bertha', 'Risien, Mr. Samuel Beard', 'Frolicher, Miss. Hedwig Margaritha', 'Crosby, Miss. Harriet R', 'Andersson, Miss. Ingeborg Constanzia', 'Andersson, Miss. Sigrid Elisabeth', 'Beane, Mr. Edward', 'Douglas, Mr. Walter Donald', 'Nicholson, Mr. Arthur Ernest', 'Beane, Mrs. Edward (Ethel Clarke)', 'Padro y Manent, Mr. Julian', 'Goldsmith, Mr. Frank John', 'Davies, Master. John Morgan Jr', 'Thayer, Mr. John Borland Jr', 'Sharp, Mr. Percival James R', \"O'Brien, Mr. Timothy\", 'Leeni, Mr. Fahim (\"Philip Zenni\")', 'Ohman, Miss. Velin', 'Wright, Mr. George', 'Duff Gordon, Lady. (Lucille Christiana Sutherland) (\"Mrs Morgan\")', 'Robbins, Mr. Victor', 'Taussig, Mrs. Emil (Tillie Mandelbaum)', 'de Messemaeker, Mrs. Guillaume Joseph (Emma)', 'Morrow, Mr. Thomas Rowan', 'Sivic, Mr. Husein', 'Norman, Mr. Robert Douglas', 'Simmons, Mr. John', 'Meanwell, Miss. (Marion Ogden)', 'Davies, Mr. Alfred J', 'Stoytcheff, Mr. Ilia', 'Palsson, Mrs. Nils (Alma Cornelia Berglund)', 'Doharr, Mr. Tannous', 'Jonsson, Mr. Carl', 'Harris, Mr. George', 'Appleton, Mrs. Edward Dale (Charlotte Lamson)', 'Flynn, Mr. John Irwin (\"Irving\")', 'Kelly, Miss. Mary', 'Rush, Mr. Alfred George John', 'Patchett, Mr. George', 'Garside, Miss. Ethel', 'Silvey, Mrs. William Baird (Alice Munger)', 'Caram, Mrs. Joseph (Maria Elias)', 'Jussila, Mr. Eiriik', 'Christy, Miss. Julie Rachel', 'Thayer, Mrs. John Borland (Marian Longstreth Morris)', 'Downton, Mr. William James', 'Ross, Mr. John Hugo', 'Paulner, Mr. Uscher', 'Taussig, Miss. Ruth', 'Jarvis, Mr. John Denzil', 'Frolicher-Stehli, Mr. Maxmillian', 'Gilinski, Mr. Eliezer', 'Murdlin, Mr. Joseph', 'Rintamaki, Mr. Matti', 'Stephenson, Mrs. Walter Bertram (Martha Eustis)', 'Elsbury, Mr. William James', 'Bourke, Miss. Mary', 'Chapman, Mr. John Henry', 'Van Impe, Mr. Jean Baptiste', 'Leitch, Miss. Jessie Wills', 'Johnson, Mr. Alfred', 'Boulos, Mr. Hanna', 'Duff Gordon, Sir. Cosmo Edmund (\"Mr Morgan\")', 'Jacobsohn, Mrs. Sidney Samuel (Amy Frances Christy)', 'Slabenoff, Mr. Petco', 'Harrington, Mr. Charles H', 'Torber, Mr. Ernst William', 'Homer, Mr. Harry (\"Mr E Haven\")', 'Lindell, Mr. Edvard Bengtsson', 'Karaic, Mr. Milan', 'Daniel, Mr. Robert Williams', 'Laroche, Mrs. Joseph (Juliette Marie Louise Lafargue)', 'Shutes, Miss. Elizabeth W', 'Andersson, Mrs. Anders Johan (Alfrida Konstantia Brogren)', 'Jardin, Mr. Jose Neto', 'Murphy, Miss. Margaret Jane', 'Horgan, Mr. John', 'Brocklebank, Mr. William Alfred', 'Herman, Miss. Alice', 'Danbom, Mr. Ernst Gilbert', 'Lobb, Mrs. William Arthur (Cordelia K Stanlick)', 'Becker, Miss. Marion Louise', 'Gavey, Mr. Lawrence', 'Yasbeck, Mr. Antoni', 'Kimball, Mr. Edwin Nelson Jr', 'Nakid, Mr. Sahid', 'Hansen, Mr. Henry Damsgaard', 'Bowen, Mr. David John \"Dai\"', 'Sutton, Mr. Frederick', 'Kirkland, Rev. Charles Leonard', 'Longley, Miss. Gretchen Fiske', 'Bostandyeff, Mr. Guentcho', \"O'Connell, Mr. Patrick D\", 'Barkworth, Mr. Algernon Henry Wilson', 'Lundahl, Mr. Johan Svensson', 'Stahelin-Maeglin, Dr. Max', 'Parr, Mr. William Henry Marsh', 'Skoog, Miss. Mabel', 'Davis, Miss. Mary', 'Leinonen, Mr. Antti Gustaf', 'Collyer, Mr. Harvey', 'Panula, Mrs. Juha (Maria Emilia Ojala)', 'Thorneycroft, Mr. Percival', 'Jensen, Mr. Hans Peder', 'Sagesser, Mlle. Emma', 'Skoog, Miss. Margit Elizabeth', 'Foo, Mr. Choong', 'Baclini, Miss. Eugenie', 'Harper, Mr. Henry Sleeper', 'Cor, Mr. Liudevit', 'Simonius-Blumer, Col. Oberst Alfons', 'Willey, Mr. Edward', 'Stanley, Miss. Amy Zillah Elsie', 'Mitkoff, Mr. Mito', 'Doling, Miss. Elsie', 'Kalvik, Mr. Johannes Halvorsen', 'O\\'Leary, Miss. Hanora \"Norah\"', 'Hegarty, Miss. Hanora \"Nora\"', 'Hickman, Mr. Leonard Mark', 'Radeff, Mr. Alexander', 'Bourke, Mrs. John (Catherine)', 'Eitemiller, Mr. George Floyd', 'Newell, Mr. Arthur Webster', 'Frauenthal, Dr. Henry William', 'Badt, Mr. Mohamed', 'Colley, Mr. Edward Pomeroy', 'Coleff, Mr. Peju', 'Lindqvist, Mr. Eino William', 'Hickman, Mr. Lewis', 'Butler, Mr. Reginald Fenton', 'Rommetvedt, Mr. Knud Paust', 'Cook, Mr. Jacob', 'Taylor, Mrs. Elmer Zebley (Juliet Cummins Wright)', 'Brown, Mrs. Thomas William Solomon (Elizabeth Catherine Ford)', 'Davidson, Mr. Thornton', 'Mitchell, Mr. Henry Michael', 'Wilhelms, Mr. Charles', 'Watson, Mr. Ennis Hastings', 'Edvardsson, Mr. Gustaf Hjalmar', 'Sawyer, Mr. Frederick Charles', 'Turja, Miss. Anna Sofia', 'Goodwin, Mrs. Frederick (Augusta Tyler)', 'Cardeza, Mr. Thomas Drake Martinez', 'Peters, Miss. Katie', 'Hassab, Mr. Hammad', 'Olsvigen, Mr. Thor Anderson', 'Goodwin, Mr. Charles Edward', 'Brown, Mr. Thomas William Solomon', 'Laroche, Mr. Joseph Philippe Lemercier', 'Panula, Mr. Jaako Arnold', 'Dakic, Mr. Branko', 'Fischer, Mr. Eberhard Thelander', 'Madill, Miss. Georgette Alexandra', 'Dick, Mr. Albert Adrian', 'Karun, Miss. Manca', 'Lam, Mr. Ali', 'Saad, Mr. Khalil', 'Weir, Col. John', 'Chapman, Mr. Charles Henry', 'Kelly, Mr. James', 'Mullens, Miss. Katherine \"Katie\"', 'Thayer, Mr. John Borland', 'Humblen, Mr. Adolf Mathias Nicolai Olsen', 'Astor, Mrs. John Jacob (Madeleine Talmadge Force)', 'Silverthorne, Mr. Spencer Victor', 'Barbara, Miss. Saiide', 'Gallagher, Mr. Martin', 'Hansen, Mr. Henrik Juul', 'Morley, Mr. Henry Samuel (\"Mr Henry Marshall\")', 'Kelly, Mrs. Florence \"Fannie\"', 'Calderhead, Mr. Edward Pennington', 'Cleaver, Miss. Alice', 'Moubarek, Master. Halim Gonios (\"William George\")', 'Mayne, Mlle. Berthe Antonine (\"Mrs de Villiers\")', 'Klaber, Mr. Herman', 'Taylor, Mr. Elmer Zebley', 'Larsson, Mr. August Viktor', 'Greenberg, Mr. Samuel', 'Soholt, Mr. Peter Andreas Lauritz Andersen', 'Endres, Miss. Caroline Louise', 'Troutt, Miss. Edwina Celia \"Winnie\"', 'McEvoy, Mr. Michael', 'Johnson, Mr. Malkolm Joackim', 'Harper, Miss. Annie Jessie \"Nina\"', 'Jensen, Mr. Svend Lauritz', 'Gillespie, Mr. William Henry', 'Hodges, Mr. Henry Price', 'Chambers, Mr. Norman Campbell', 'Oreskovic, Mr. Luka', 'Renouf, Mrs. Peter Henry (Lillian Jefferys)', 'Mannion, Miss. Margareth', 'Bryhl, Mr. Kurt Arnold Gottfrid', 'Ilmakangas, Miss. Pieta Sofia', 'Allen, Miss. Elisabeth Walton', 'Hassan, Mr. Houssein G N', 'Knight, Mr. Robert J', 'Berriman, Mr. William John', 'Troupiansky, Mr. Moses Aaron', 'Williams, Mr. Leslie', 'Ford, Mrs. Edward (Margaret Ann Watson)', 'Lesurer, Mr. Gustave J', 'Ivanoff, Mr. Kanio', 'Nankoff, Mr. Minko', 'Hawksford, Mr. Walter James', 'Cavendish, Mr. Tyrell William', 'Ryerson, Miss. Susan Parker \"Suzette\"', 'McNamee, Mr. Neal', 'Stranden, Mr. Juho', 'Crosby, Capt. Edward Gifford', 'Abbott, Mr. Rossmore Edward', 'Sinkkonen, Miss. Anna', 'Marvin, Mr. Daniel Warner', 'Connaghton, Mr. Michael', 'Wells, Miss. Joan', 'Moor, Master. Meier', 'Vande Velde, Mr. Johannes Joseph', 'Jonkoff, Mr. Lalio', 'Herman, Mrs. Samuel (Jane Laver)', 'Hamalainen, Master. Viljo', 'Carlsson, Mr. August Sigfrid', 'Bailey, Mr. Percy Andrew', 'Theobald, Mr. Thomas Leonard', 'Rothes, the Countess. of (Lucy Noel Martha Dyer-Edwards)', 'Garfirth, Mr. John', 'Nirva, Mr. Iisakki Antino Aijo', 'Barah, Mr. Hanna Assi', 'Carter, Mrs. William Ernest (Lucile Polk)', 'Eklund, Mr. Hans Linus', 'Hogeboom, Mrs. John C (Anna Andrews)', 'Brewe, Dr. Arthur Jackson', 'Mangan, Miss. Mary', 'Moran, Mr. Daniel J', 'Gronnestad, Mr. Daniel Danielsen', 'Lievens, Mr. Rene Aime', 'Jensen, Mr. Niels Peder', 'Mack, Mrs. (Mary)', 'Elias, Mr. Dibo', 'Hocking, Mrs. Elizabeth (Eliza Needs)', 'Myhrman, Mr. Pehr Fabian Oliver Malkolm', 'Tobin, Mr. Roger', 'Emanuel, Miss. Virginia Ethel', 'Kilgannon, Mr. Thomas J', 'Robert, Mrs. Edward Scott (Elisabeth Walton McMillan)', 'Ayoub, Miss. Banoura', 'Dick, Mrs. Albert Adrian (Vera Gillespie)', 'Long, Mr. Milton Clyde', 'Johnston, Mr. Andrew G', 'Ali, Mr. William', 'Harmer, Mr. Abraham (David Lishin)', 'Sjoblom, Miss. Anna Sofia', 'Rice, Master. George Hugh', 'Dean, Master. Bertram Vere', 'Guggenheim, Mr. Benjamin', 'Keane, Mr. Andrew \"Andy\"', 'Gaskell, Mr. Alfred', 'Sage, Miss. Stella Anna', 'Hoyt, Mr. William Fisher', 'Dantcheff, Mr. Ristiu', 'Otter, Mr. Richard', 'Leader, Dr. Alice (Farnham)', 'Osman, Mrs. Mara', 'Ibrahim Shawah, Mr. Yousseff', 'Van Impe, Mrs. Jean Baptiste (Rosalie Paula Govaert)', 'Ponesell, Mr. Martin', 'Collyer, Mrs. Harvey (Charlotte Annie Tate)', 'Carter, Master. William Thornton II', 'Thomas, Master. Assad Alexander', 'Hedman, Mr. Oskar Arvid', 'Johansson, Mr. Karl Johan', 'Andrews, Mr. Thomas Jr', 'Pettersson, Miss. Ellen Natalia', 'Meyer, Mr. August', 'Chambers, Mrs. Norman Campbell (Bertha Griggs)', 'Alexander, Mr. William', 'Lester, Mr. James', 'Slemen, Mr. Richard James', 'Andersson, Miss. Ebba Iris Alfrida', 'Tomlin, Mr. Ernest Portage', 'Fry, Mr. Richard', 'Heininen, Miss. Wendla Maria', 'Mallet, Mr. Albert', 'Holm, Mr. John Fredrik Alexander', 'Skoog, Master. Karl Thorsten', 'Hays, Mrs. Charles Melville (Clara Jennings Gregg)', 'Lulic, Mr. Nikola', 'Reuchlin, Jonkheer. John George', 'Moor, Mrs. (Beila)', 'Panula, Master. Urho Abraham', 'Flynn, Mr. John', 'Lam, Mr. Len', 'Mallet, Master. Andre', 'McCormack, Mr. Thomas Joseph', 'Stone, Mrs. George Nelson (Martha Evelyn)', 'Yasbeck, Mrs. Antoni (Selini Alexander)', 'Richards, Master. George Sibley', 'Saad, Mr. Amin', 'Augustsson, Mr. Albert', 'Allum, Mr. Owen George', 'Compton, Miss. Sara Rebecca', 'Pasic, Mr. Jakob', 'Sirota, Mr. Maurice', 'Chip, Mr. Chang', 'Marechal, Mr. Pierre', 'Alhomaki, Mr. Ilmari Rudolf', 'Mudd, Mr. Thomas Charles', 'Serepeca, Miss. Augusta', 'Lemberopolous, Mr. Peter L', 'Culumovic, Mr. Jeso', 'Abbing, Mr. Anthony', 'Sage, Mr. Douglas Bullen', 'Markoff, Mr. Marin', 'Harper, Rev. John', 'Goldenberg, Mrs. Samuel L (Edwiga Grabowska)', 'Andersson, Master. Sigvard Harald Elias', 'Svensson, Mr. Johan', 'Boulos, Miss. Nourelain', 'Lines, Miss. Mary Conover', 'Carter, Mrs. Ernest Courtenay (Lilian Hughes)', 'Aks, Mrs. Sam (Leah Rosen)', 'Wick, Mrs. George Dennick (Mary Hitchcock)', 'Daly, Mr. Peter Denis ', 'Baclini, Mrs. Solomon (Latifa Qurban)', 'Razi, Mr. Raihed', 'Hansen, Mr. Claus Peter', 'Giles, Mr. Frederick Edward', 'Swift, Mrs. Frederick Joel (Margaret Welles Barron)', 'Sage, Miss. Dorothy Edith \"Dolly\"', 'Gill, Mr. John William', 'Bystrom, Mrs. (Karolina)', 'Duran y More, Miss. Asuncion', 'Roebling, Mr. Washington Augustus II', 'van Melkebeke, Mr. Philemon', 'Johnson, Master. Harold Theodor', 'Balkic, Mr. Cerin', 'Beckwith, Mrs. Richard Leonard (Sallie Monypeny)', 'Carlsson, Mr. Frans Olof', 'Vander Cruyssen, Mr. Victor', 'Abelson, Mrs. Samuel (Hannah Wizosky)', 'Najib, Miss. Adele Kiamie \"Jane\"', 'Gustafsson, Mr. Alfred Ossian', 'Petroff, Mr. Nedelio', 'Laleff, Mr. Kristo', 'Potter, Mrs. Thomas Jr (Lily Alexenia Wilson)', 'Shelley, Mrs. William (Imanita Parrish Hall)', 'Markun, Mr. Johann', 'Dahlberg, Miss. Gerda Ulrika', 'Banfield, Mr. Frederick James', 'Sutehall, Mr. Henry Jr', 'Rice, Mrs. William (Margaret Norton)', 'Montvila, Rev. Juozas', 'Graham, Miss. Margaret Edith', 'Johnston, Miss. Catherine Helen \"Carrie\"', 'Behr, Mr. Karl Howell', 'Dooley, Mr. Patrick', 'Wilkes, Mrs. James (Ellen Needs)', 'Myles, Mr. Thomas Francis', 'Wirz, Mr. Albert', 'Hirvonen, Mrs. Alexander (Helga E Lindqvist)', 'Svensson, Mr. Johan Cervin', 'Caldwell, Mr. Albert Francis', 'Abrahim, Mrs. Joseph (Sophie Halaut Easu)', 'Davies, Mr. John Samuel', 'Ilieff, Mr. Ylio', 'Jones, Mr. Charles Cresson', 'Snyder, Mrs. John Pillsbury (Nelle Stevenson)', 'Howard, Mr. Benjamin', 'Chaffee, Mrs. Herbert Fuller (Carrie Constance Toogood)', 'del Carlo, Mrs. Sebastiano (Argenia Genovesi)', 'Keane, Mr. Daniel', 'Assaf, Mr. Gerios', 'Ilmakangas, Miss. Ida Livija', 'Assaf Khalil, Mrs. Mariana (Miriam\")\"', 'Rothschild, Mr. Martin', 'Olsen, Master. Artur Karl', 'Flegenheim, Mrs. Alfred (Antoinette)', 'Williams, Mr. Richard Norris II', 'Ryerson, Mrs. Arthur Larned (Emily Maria Borie)', 'Robins, Mr. Alexander A', 'Ostby, Miss. Helene Ragnhild', 'Daher, Mr. Shedid', 'Brady, Mr. John Bertram', 'Samaan, Mr. Elias', 'Louch, Mr. Charles Alexander', 'Jefferys, Mr. Clifford Thomas', 'Dean, Mrs. Bertram (Eva Georgetta Light)', 'Johnston, Mrs. Andrew G (Elizabeth Lily\" Watson)\"', 'Mock, Mr. Philipp Edmund', 'Katavelas, Mr. Vassilios (Catavelas Vassilios\")\"', 'Roth, Miss. Sarah A', 'Cacic, Miss. Manda', 'Sap, Mr. Julius', 'Hee, Mr. Ling', 'Karun, Mr. Franz', 'Franklin, Mr. Thomas Parham', 'Goldsmith, Mr. Nathan', 'Corbett, Mrs. Walter H (Irene Colvin)', 'Kimball, Mrs. Edwin Nelson Jr (Gertrude Parsons)', 'Peltomaki, Mr. Nikolai Johannes', 'Chevre, Mr. Paul Romaine', 'Shaughnessy, Mr. Patrick', 'Bucknell, Mrs. William Robert (Emma Eliza Ward)', 'Coutts, Mrs. William (Winnie Minnie\" Treanor)\"', 'Smith, Mr. Lucien Philip', 'Pulbaum, Mr. Franz', 'Hocking, Miss. Ellen Nellie\"\"', 'Fortune, Miss. Ethel Flora', 'Mangiavacchi, Mr. Serafino Emilio', 'Rice, Master. Albert', 'Cor, Mr. Bartol', 'Abelseth, Mr. Olaus Jorgensen', 'Davison, Mr. Thomas Henry', 'Chaudanson, Miss. Victorine', 'Dika, Mr. Mirko', 'McCrae, Mr. Arthur Gordon', 'Bjorklund, Mr. Ernst Herbert', 'Bradley, Miss. Bridget Delia', 'Ryerson, Master. John Borie', 'Corey, Mrs. Percy C (Mary Phyllis Elizabeth Miller)', 'Burns, Miss. Mary Delia', 'Moore, Mr. Clarence Bloomfield', 'Tucker, Mr. Gilbert Milligan Jr', 'Fortune, Mrs. Mark (Mary McDougald)', 'Mulvihill, Miss. Bertha E', 'Minkoff, Mr. Lazar', 'Nieminen, Miss. Manta Josefina', 'Ovies y Rodriguez, Mr. Servando', 'Geiger, Miss. Amalie', 'Keeping, Mr. Edwin', 'Miles, Mr. Frank', 'Cornell, Mrs. Robert Clifford (Malvina Helen Lamson)', 'Aldworth, Mr. Charles Augustus', 'Doyle, Miss. Elizabeth', 'Boulos, Master. Akar', 'Straus, Mr. Isidor', 'Case, Mr. Howard Brown', 'Demetri, Mr. Marinko', 'Lamb, Mr. John Joseph', 'Khalil, Mr. Betros', 'Barry, Miss. Julia', 'Badman, Miss. Emily Louisa', \"O'Donoghue, Ms. Bridget\", 'Wells, Master. Ralph Lester', 'Dyker, Mrs. Adolf Fredrik (Anna Elisabeth Judith Andersson)', 'Pedersen, Mr. Olaf', 'Davidson, Mrs. Thornton (Orian Hays)', 'Guest, Mr. Robert', 'Birnbaum, Mr. Jakob', 'Tenglin, Mr. Gunnar Isidor', 'Cavendish, Mrs. Tyrell William (Julia Florence Siegel)', 'Makinen, Mr. Kalle Edvard', 'Braf, Miss. Elin Ester Maria', 'Nancarrow, Mr. William Henry', 'Stengel, Mrs. Charles Emil Henry (Annie May Morris)', 'Weisz, Mr. Leopold', 'Foley, Mr. William', 'Johansson Palmquist, Mr. Oskar Leander', 'Thomas, Mrs. Alexander (Thamine Thelma\")\"', 'Holthen, Mr. Johan Martin', 'Buckley, Mr. Daniel', 'Ryan, Mr. Edward', 'Willer, Mr. Aaron (Abi Weller\")\"', 'Swane, Mr. George', 'Stanton, Mr. Samuel Ward', 'Shine, Miss. Ellen Natalia', 'Evans, Miss. Edith Corse', 'Buckley, Miss. Katherine', 'Straus, Mrs. Isidor (Rosalie Ida Blun)', 'Chronopoulos, Mr. Demetrios', 'Thomas, Mr. John', 'Sandstrom, Miss. Beatrice Irene', 'Beattie, Mr. Thomson', 'Chapman, Mrs. John Henry (Sara Elizabeth Lawry)', 'Watt, Miss. Bertha J', 'Kiernan, Mr. John', 'Schabert, Mrs. Paul (Emma Mock)', 'Carver, Mr. Alfred John', 'Kennedy, Mr. John', 'Cribb, Miss. Laura Alice', 'Brobeck, Mr. Karl Rudolf', 'McCoy, Miss. Alicia', 'Bowenur, Mr. Solomon', 'Petersen, Mr. Marius', 'Spinner, Mr. Henry John', 'Gracie, Col. Archibald IV', 'Lefebre, Mrs. Frank (Frances)', 'Thomas, Mr. Charles P', 'Dintcheff, Mr. Valtcho', 'Carlsson, Mr. Carl Robert', 'Zakarian, Mr. Mapriededer', 'Schmidt, Mr. August', 'Drapkin, Miss. Jennie', 'Goodwin, Mr. Charles Frederick', 'Goodwin, Miss. Jessie Allis', 'Daniels, Miss. Sarah', 'Ryerson, Mr. Arthur Larned', 'Beauchamp, Mr. Henry James', 'Lindeberg-Lind, Mr. Erik Gustaf (Mr Edward Lingrey\")\"', 'Vander Planke, Mr. Julius', 'Hilliard, Mr. Herbert Henry', 'Davies, Mr. Evan', 'Crafton, Mr. John Bertram', 'Lahtinen, Rev. William', 'Earnshaw, Mrs. Boulton (Olive Potter)', 'Matinoff, Mr. Nicola', 'Storey, Mr. Thomas', 'Klasen, Mrs. (Hulda Kristina Eugenia Lofqvist)', 'Asplund, Master. Filip Oscar', 'Duquemin, Mr. Joseph', 'Bird, Miss. Ellen', 'Lundin, Miss. Olga Elida', 'Borebank, Mr. John James', 'Peacock, Mrs. Benjamin (Edith Nile)', 'Smyth, Miss. Julia', 'Touma, Master. Georges Youssef', 'Wright, Miss. Marion', 'Pearce, Mr. Ernest', 'Peruschitz, Rev. Joseph Maria', 'Kink-Heilmann, Mrs. Anton (Luise Heilmann)', 'Brandeis, Mr. Emil', 'Ford, Mr. Edward Watson', 'Cassebeer, Mrs. Henry Arthur Jr (Eleanor Genevieve Fosdick)', 'Hellstrom, Miss. Hilda Maria', 'Lithman, Mr. Simon', 'Zakarian, Mr. Ortin', 'Dyker, Mr. Adolf Fredrik', 'Torfa, Mr. Assad', 'Asplund, Mr. Carl Oscar Vilhelm Gustafsson', 'Brown, Miss. Edith Eileen', 'Sincock, Miss. Maude', 'Stengel, Mr. Charles Emil Henry', 'Becker, Mrs. Allen Oliver (Nellie E Baumgardner)', 'Compton, Mrs. Alexander Taylor (Mary Eliza Ingersoll)', 'McCrie, Mr. James Matthew', 'Compton, Mr. Alexander Taylor Jr', 'Marvin, Mrs. Daniel Warner (Mary Graham Carmichael Farquarson)', 'Lane, Mr. Patrick', 'Douglas, Mrs. Frederick Charles (Mary Helene Baxter)', 'Maybery, Mr. Frank Hubert', 'Phillips, Miss. Alice Frances Louisa', 'Davies, Mr. Joseph', 'Sage, Miss. Ada', 'Veal, Mr. James', 'Angle, Mr. William A', 'Salomon, Mr. Abraham L', 'van Billiard, Master. Walter John', 'Lingane, Mr. John', 'Drew, Master. Marshall Brines', 'Karlsson, Mr. Julius Konrad Eugen', 'Spedden, Master. Robert Douglas', 'Nilsson, Miss. Berta Olivia', 'Baimbrigge, Mr. Charles Robert', 'Rasmussen, Mrs. (Lena Jacobsen Solvang)', 'Murphy, Miss. Nora', 'Danbom, Master. Gilbert Sigvard Emanuel', 'Astor, Col. John Jacob', 'Quick, Miss. Winifred Vera', 'Andrew, Mr. Frank Thomas', 'Omont, Mr. Alfred Fernand', 'McGowan, Miss. Katherine', 'Collett, Mr. Sidney C Stuart', 'Rosenbaum, Miss. Edith Louise', 'Delalic, Mr. Redjo', 'Andersen, Mr. Albert Karvin', 'Finoli, Mr. Luigi', 'Deacon, Mr. Percy William', 'Howard, Mrs. Benjamin (Ellen Truelove Arman)', 'Andersson, Miss. Ida Augusta Margareta', 'Head, Mr. Christopher', 'Mahon, Miss. Bridget Delia', 'Wick, Mr. George Dennick', 'Widener, Mrs. George Dunton (Eleanor Elkins)', 'Thomson, Mr. Alexander Morrison', 'Duran y More, Miss. Florentina', 'Reynolds, Mr. Harold J', 'Cook, Mrs. (Selena Rogers)', 'Karlsson, Mr. Einar Gervasius', 'Candee, Mrs. Edward (Helen Churchill Hungerford)', 'Moubarek, Mrs. George (Omine Amenia\" Alexander)\"', 'Asplund, Mr. Johan Charles', 'McNeill, Miss. Bridget', 'Everett, Mr. Thomas James', 'Hocking, Mr. Samuel James Metcalfe', 'Sweet, Mr. George Frederick', 'Willard, Miss. Constance', 'Wiklund, Mr. Karl Johan', 'Linehan, Mr. Michael', 'Cumings, Mr. John Bradley', 'Vendel, Mr. Olof Edvin', 'Warren, Mr. Frank Manley', 'Baccos, Mr. Raffull', 'Hiltunen, Miss. Marta', 'Douglas, Mrs. Walter Donald (Mahala Dutton)', 'Lindstrom, Mrs. Carl Johan (Sigrid Posse)', 'Christy, Mrs. (Alice Frances)', 'Spedden, Mr. Frederic Oakley', 'Hyman, Mr. Abraham', 'Johnston, Master. William Arthur Willie\"\"', 'Kenyon, Mr. Frederick R', 'Karnes, Mrs. J Frank (Claire Bennett)', 'Drew, Mr. James Vivian', 'Hold, Mrs. Stephen (Annie Margaret Hill)', 'Khalil, Mrs. Betros (Zahie Maria\" Elias)\"', 'West, Miss. Barbara J', 'Abrahamsson, Mr. Abraham August Johannes', 'Clark, Mr. Walter Miller', 'Salander, Mr. Karl Johan', 'Wenzel, Mr. Linhart', 'MacKay, Mr. George William', 'Mahon, Mr. John', 'Niklasson, Mr. Samuel', 'Bentham, Miss. Lilian W', 'Midtsjo, Mr. Karl Albert', 'de Messemaeker, Mr. Guillaume Joseph', 'Nilsson, Mr. August Ferdinand', 'Wells, Mrs. Arthur Henry (Addie\" Dart Trevaskis)\"', 'Klasen, Miss. Gertrud Emilia', 'Portaluppi, Mr. Emilio Ilario Giuseppe', 'Lyntakoff, Mr. Stanko', 'Chisholm, Mr. Roderick Robert Crispin', 'Warren, Mr. Charles William', 'Howard, Miss. May Elizabeth', 'Pokrnic, Mr. Mate', 'McCaffry, Mr. Thomas Francis', 'Fox, Mr. Patrick', 'Clark, Mrs. Walter Miller (Virginia McDowell)', 'Lennon, Miss. Mary', 'Saade, Mr. Jean Nassr', 'Bryhl, Miss. Dagmar Jenny Ingeborg ', 'Parker, Mr. Clifford Richard', 'Faunthorpe, Mr. Harry', 'Ware, Mr. John James', 'Oxenham, Mr. Percy Thomas', 'Oreskovic, Miss. Jelka', 'Peacock, Master. Alfred Edward', 'Fleming, Miss. Honora', 'Touma, Miss. Maria Youssef', 'Rosblom, Miss. Salli Helena', 'Dennis, Mr. William', 'Franklin, Mr. Charles (Charles Fardon)', 'Snyder, Mr. John Pillsbury', 'Mardirosian, Mr. Sarkis', 'Ford, Mr. Arthur', 'Rheims, Mr. George Alexander Lucien', 'Daly, Miss. Margaret Marcella Maggie\"\"', 'Nasr, Mr. Mustafa', 'Dodge, Dr. Washington', 'Wittevrongel, Mr. Camille', 'Angheloff, Mr. Minko', 'Laroche, Miss. Louise', 'Samaan, Mr. Hanna', 'Loring, Mr. Joseph Holland', 'Johansson, Mr. Nils', 'Olsson, Mr. Oscar Wilhelm', 'Malachard, Mr. Noel', 'Phillips, Mr. Escott Robert', 'Pokrnic, Mr. Tome', 'McCarthy, Miss. Catherine Katie\"\"', 'Crosby, Mrs. Edward Gifford (Catherine Elizabeth Halstead)', 'Allison, Mr. Hudson Joshua Creighton', 'Aks, Master. Philip Frank', 'Hays, Mr. Charles Melville', 'Hansen, Mrs. Claus Peter (Jennie L Howard)', 'Cacic, Mr. Jego Grga', 'Vartanian, Mr. David', 'Sadowitz, Mr. Harry', 'Carr, Miss. Jeannie', 'White, Mrs. John Stuart (Ella Holmes)', 'Hagardon, Miss. Kate', 'Spencer, Mr. William Augustus', 'Rogers, Mr. Reginald Harry', 'Jonsson, Mr. Nils Hilding', 'Jefferys, Mr. Ernest Wilfred', 'Andersson, Mr. Johan Samuel', 'Krekorian, Mr. Neshan', 'Nesson, Mr. Israel', 'Rowe, Mr. Alfred G', 'Kreuchen, Miss. Emilie', 'Assam, Mr. Ali', 'Becker, Miss. Ruth Elizabeth', 'Rosenshine, Mr. George (Mr George Thorne\")\"', 'Clarke, Mr. Charles Valentine', 'Enander, Mr. Ingvar', 'Davies, Mrs. John Morgan (Elizabeth Agnes Mary White) ', 'Dulles, Mr. William Crothers', 'Thomas, Mr. Tannous', 'Nakid, Mrs. Said (Waika Mary\" Mowad)\"', 'Cor, Mr. Ivan', 'Maguire, Mr. John Edward', 'de Brito, Mr. Jose Joaquim', 'Elias, Mr. Joseph', 'Denbury, Mr. Herbert', 'Betros, Master. Seman', 'Fillbrook, Mr. Joseph Charles', 'Lundstrom, Mr. Thure Edvin', 'Sage, Mr. John George', 'Cardeza, Mrs. James Warburton Martinez (Charlotte Wardle Drake)', 'van Billiard, Master. James William', 'Abelseth, Miss. Karen Marie', 'Botsford, Mr. William Hull', 'Whabee, Mrs. George Joseph (Shawneene Abi-Saab)', 'Giles, Mr. Ralph', 'Walcroft, Miss. Nellie', 'Greenfield, Mrs. Leo David (Blanche Strouse)', 'Stokes, Mr. Philip Joseph', 'Dibden, Mr. William', 'Herman, Mr. Samuel', 'Dean, Miss. Elizabeth Gladys Millvina\"\"', 'Julian, Mr. Henry Forbes', 'Brown, Mrs. John Murray (Caroline Lane Lamson)', 'Lockyer, Mr. Edward', \"O'Keefe, Mr. Patrick\", 'Lindell, Mrs. Edvard Bengtsson (Elin Gerda Persson)', 'Sage, Master. William Henry', 'Mallet, Mrs. Albert (Antoinette Magnin)', 'Ware, Mrs. John James (Florence Louise Long)', 'Strilic, Mr. Ivan', 'Harder, Mrs. George Achilles (Dorothy Annan)', 'Sage, Mrs. John (Annie Bullen)', 'Caram, Mr. Joseph', 'Riihivouri, Miss. Susanna Juhantytar Sanni\"\"', 'Gibson, Mrs. Leonard (Pauline C Boeson)', 'Pallas y Castello, Mr. Emilio', 'Giles, Mr. Edgar', 'Wilson, Miss. Helen Alice', 'Ismay, Mr. Joseph Bruce', 'Harbeck, Mr. William H', 'Dodge, Mrs. Washington (Ruth Vidaver)', 'Bowen, Miss. Grace Scott', 'Kink, Miss. Maria', 'Cotterill, Mr. Henry Harry\"\"', 'Hipkins, Mr. William Edward', 'Asplund, Master. Carl Edgar', \"O'Connor, Mr. Patrick\", 'Foley, Mr. Joseph', 'Risien, Mrs. Samuel (Emma)', \"McNamee, Mrs. Neal (Eileen O'Leary)\", 'Wheeler, Mr. Edwin Frederick\"\"', 'Herman, Miss. Kate', 'Aronsson, Mr. Ernst Axel Algot', 'Ashby, Mr. John', 'Canavan, Mr. Patrick', 'Palsson, Master. Paul Folke', 'Payne, Mr. Vivian Ponsonby', 'Lines, Mrs. Ernest H (Elizabeth Lindsey James)', 'Abbott, Master. Eugene Joseph', 'Gilbert, Mr. William', 'Kink-Heilmann, Mr. Anton', 'Smith, Mrs. Lucien Philip (Mary Eloise Hughes)', 'Colbert, Mr. Patrick', 'Frolicher-Stehli, Mrs. Maxmillian (Margaretha Emerentia Stehli)', 'Larsson-Rondberg, Mr. Edvard A', 'Conlon, Mr. Thomas Henry', 'Bonnell, Miss. Caroline', 'Gale, Mr. Harry', 'Gibson, Miss. Dorothy Winifred', 'Carrau, Mr. Jose Pedro', 'Frauenthal, Mr. Isaac Gerald', 'Nourney, Mr. Alfred (Baron von Drachstedt\")\"', 'Ware, Mr. William Jeffery', 'Widener, Mr. George Dunton', 'Riordan, Miss. Johanna Hannah\"\"', 'Peacock, Miss. Treasteall', 'Naughton, Miss. Hannah', 'Minahan, Mrs. William Edward (Lillian E Thorpe)', 'Henriksson, Miss. Jenny Lovisa', 'Spector, Mr. Woolf', 'Oliva y Ocana, Dona. Fermina', 'Saether, Mr. Simon Sivertsen', 'Ware, Mr. Frederick', 'Peter, Master. Michael J']\n",
      "Sex:  ['male', 'female']\n",
      "Ticket:  ['A/5 21171', 'PC 17599', 'STON/O2. 3101282', '113803', '373450', '330877', '17463', '349909', '347742', '237736', 'PP 9549', '113783', 'A/5. 2151', '347082', '350406', '248706', '382652', '244373', '345763', '2649', '239865', '248698', '330923', '113788', '347077', '2631', '19950', '330959', '349216', 'PC 17601', 'PC 17569', '335677', 'C.A. 24579', 'PC 17604', '113789', '2677', 'A./5. 2152', '345764', '2651', '7546', '11668', '349253', 'SC/Paris 2123', '330958', 'S.C./A.4. 23567', '370371', '14311', '2662', '349237', '3101295', 'A/4. 39886', 'PC 17572', '2926', '113509', '19947', 'C.A. 31026', '2697', 'C.A. 34651', 'CA 2144', '2669', '113572', '36973', '347088', 'PC 17605', '2661', 'C.A. 29395', 'S.P. 3464', '3101281', '315151', 'C.A. 33111', 'S.O.C. 14879', '2680', '1601', '348123', '349208', '374746', '248738', '364516', '345767', '345779', '330932', '113059', 'SO/C 14885', '3101278', 'W./C. 6608', 'SOTON/OQ 392086', '343275', '343276', '347466', 'W.E.P. 5734', 'C.A. 2315', '364500', '374910', 'PC 17754', 'PC 17759', '231919', '244367', '349245', '349215', '35281', '7540', '3101276', '349207', '343120', '312991', '349249', '371110', '110465', '2665', '324669', '4136', '2627', 'STON/O 2. 3101294', '370369', 'PC 17558', 'A4. 54510', '27267', '370372', 'C 17369', '2668', '347061', '349241', 'SOTON/O.Q. 3101307', 'A/5. 3337', '228414', 'C.A. 29178', 'SC/PARIS 2133', '11752', '7534', 'PC 17593', '2678', '347081', 'STON/O2. 3101279', '365222', '231945', 'C.A. 33112', '350043', '230080', '244310', 'S.O.P. 1166', '113776', 'A.5. 11206', 'A/5. 851', 'Fa 265302', 'PC 17597', '35851', 'SOTON/OQ 392090', '315037', 'CA. 2343', '371362', 'C.A. 33595', '347068', '315093', '363291', '113505', 'PC 17318', '111240', 'STON/O 2. 3101280', '17764', '350404', '4133', 'PC 17595', '250653', 'LINE', 'SC/PARIS 2131', '230136', '315153', '113767', '370365', '111428', '364849', '349247', '234604', '28424', '350046', 'PC 17610', '368703', '4579', '370370', '248747', '345770', '3101264', '2628', 'A/5 3540', '347054', '2699', '367231', '112277', 'SOTON/O.Q. 3101311', 'F.C.C. 13528', 'A/5 21174', '250646', '367229', '35273', 'STON/O2. 3101283', '243847', '11813', 'W/C 14208', 'SOTON/OQ 392089', '220367', '21440', '349234', '19943', 'PP 4348', 'SW/PP 751', 'A/5 21173', '236171', '347067', '237442', 'C.A. 29566', 'W./C. 6609', '26707', 'C.A. 31921', '28665', 'SCO/W 1585', '367230', 'W./C. 14263', 'STON/O 2. 3101275', '2694', '19928', '347071', '250649', '11751', '244252', '362316', '113514', 'A/5. 3336', '370129', '2650', 'PC 17585', '110152', 'PC 17755', '230433', '384461', '110413', '112059', '382649', 'C.A. 17248', '347083', 'PC 17582', 'PC 17760', '113798', '250644', 'PC 17596', '370375', '13502', '347073', '239853', 'C.A. 2673', '336439', '347464', '345778', 'A/5. 10482', '113056', '349239', '345774', '349206', '237798', '370373', '19877', '11967', 'SC/Paris 2163', '349236', '349233', 'PC 17612', '2693', '113781', '19988', '9234', '367226', '226593', 'A/5 2466', '17421', 'PC 17758', 'P/PP 3381', 'PC 17485', '11767', 'PC 17608', '250651', '349243', 'F.C.C. 13529', '347470', '29011', '36928', '16966', 'A/5 21172', '349219', '234818', '345364', '28551', '111361', '113043', 'PC 17611', '349225', '7598', '113784', '248740', '244361', '229236', '248733', '31418', '386525', 'C.A. 37671', '315088', '7267', '113510', '2695', '2647', '345783', '237671', '330931', '330980', 'SC/PARIS 2167', '2691', 'SOTON/O.Q. 3101310', 'C 7076', '110813', '2626', '14313', 'PC 17477', '11765', '3101267', '323951', 'C 7077', '113503', '2648', '347069', 'PC 17757', '2653', 'STON/O 2. 3101293', '349227', '27849', '367655', 'SC 1748', '113760', '350034', '3101277', '350052', '350407', '28403', '244278', '240929', 'STON/O 2. 3101289', '341826', '4137', '315096', '28664', '347064', '29106', '312992', '349222', '394140', 'STON/O 2. 3101269', '343095', '28220', '250652', '28228', '345773', '349254', 'A/5. 13032', '315082', '347080', 'A/4. 34244', '2003', '250655', '364851', 'SOTON/O.Q. 392078', '110564', '376564', 'SC/AH 3085', 'STON/O 2. 3101274', '13507', 'C.A. 18723', '345769', '347076', '230434', '65306', '33638', '113794', '2666', '113786', '65303', '113051', '17453', 'A/5 2817', '349240', '13509', '17464', 'F.C.C. 13531', '371060', '19952', '364506', '111320', '234360', 'A/S 2816', 'SOTON/O.Q. 3101306', '113792', '36209', '323592', '315089', 'SC/AH Basle 541', '7553', '31027', '3460', '350060', '3101298', '239854', 'A/5 3594', '4134', '11771', 'A.5. 18509', '65304', 'SOTON/OQ 3101317', '113787', 'PC 17609', 'A/4 45380', '36947', 'C.A. 6212', '350035', '315086', '364846', '330909', '4135', '26360', '111427', 'C 4001', '382651', 'SOTON/OQ 3101316', 'PC 17473', 'PC 17603', '349209', '36967', 'C.A. 34260', '226875', '349242', '12749', '349252', '2624', '2700', '367232', 'W./C. 14258', 'PC 17483', '3101296', '29104', '2641', '2690', '315084', '113050', 'PC 17761', '364498', '13568', 'WE/P 5735', '2908', '693', 'SC/PARIS 2146', '244358', '330979', '2620', '347085', '113807', '11755', '345572', '372622', '349251', '218629', 'SOTON/OQ 392082', 'SOTON/O.Q. 392087', 'A/4 48871', '349205', '2686', '350417', 'S.W./PP 752', '11769', 'PC 17474', '14312', 'A/4. 20589', '358585', '243880', '2689', 'STON/O 2. 3101286', '237789', '13049', '3411', '237565', '13567', '14973', 'A./5. 3235', 'STON/O 2. 3101273', 'A/5 3902', '364848', 'SC/AH 29037', '248727', '2664', '349214', '113796', '364511', '111426', '349910', '349246', '113804', 'SOTON/O.Q. 3101305', '370377', '364512', '220845', '31028', '2659', '11753', '350029', '54636', '36963', '219533', '349224', '334912', '27042', '347743', '13214', '112052', '237668', 'STON/O 2. 3101292', '350050', '349231', '13213', 'S.O./P.P. 751', 'CA. 2314', '349221', '8475', '330919', '365226', '349223', '29751', '2623', '5727', '349210', 'STON/O 2. 3101285', '234686', '312993', 'A/5 3536', '19996', '29750', 'F.C. 12750', 'C.A. 24580', '244270', '239856', '349912', '342826', '4138', '330935', '6563', '349228', '350036', '24160', '17474', '349256', '2672', '113800', '248731', '363592', '35852', '348121', 'PC 17475', '36864', '350025', '223596', 'PC 17476', 'PC 17482', '113028', '7545', '250647', '348124', '34218', '36568', '347062', '350048', '12233', '250643', '113806', '315094', '36866', '236853', 'STON/O2. 3101271', '239855', '28425', '233639', '349201', '349218', '16988', '376566', 'STON/O 2. 3101288', '250648', '113773', '335097', '29103', '392096', '345780', '349204', '350042', '29108', '363294', 'SOTON/O2 3101272', '2663', '347074', '112379', '364850', '8471', '345781', '350047', 'S.O./P.P. 3', '2674', '29105', '347078', '383121', '36865', '2687', '113501', 'W./C. 6607', 'SOTON/O.Q. 3101312', '374887', '3101265', '12460', 'PC 17600', '349203', '28213', '17465', '349244', '2685', '2625', '347089', '347063', '112050', '347087', '248723', '3474', '28206', '364499', '112058', 'STON/O2. 3101290', 'S.C./PARIS 2079', 'C 7075', '315098', '19972', '368323', '367228', '2671', '347468', '2223', 'PC 17756', '315097', '392092', '11774', 'SOTON/O2 3101287', '2683', '315090', 'C.A. 5547', '349213', '347060', 'PC 17592', '392091', '113055', '2629', '350026', '28134', '17466', '233866', '236852', 'SC/PARIS 2149', 'PC 17590', '345777', '349248', '695', '345765', '2667', '349212', '349217', '349257', '7552', 'C.A./SOTON 34068', 'SOTON/OQ 392076', '211536', '112053', '111369', '370376', '330911', '363272', '240276', '315154', '7538', '330972', '2657', '349220', '694', '21228', '24065', '233734', '2692', 'STON/O2. 3101270', '2696', 'C 17368', 'PC 17598', '2698', '113054', 'C.A. 31029', '13236', '2682', '342712', '315087', '345768', '113778', 'SOTON/O.Q. 3101263', '237249', 'STON/O 2. 3101291', 'PC 17594', '370374', '13695', 'SC/PARIS 2168', 'SC/A.3 2861', '349230', '348122', '349232', '237216', '347090', '334914', 'F.C.C. 13534', '330963', '2543', '382653', '349211', '3101297', 'PC 17562', '359306', '11770', '248744', '368702', '19924', '349238', '240261', '2660', '330844', 'A/4 31416', '364856', '347072', '345498', '376563', '13905', '350033', 'STON/O 2. 3101268', '347471', 'A./5. 3338', '11778', '365235', '347070', '330920', '383162', '3410', '248734', '237734', '330968', 'PC 17531', '329944', '2681', '13050', '367227', '392095', '368783', '350045', '211535', '342441', 'STON/OQ. 369943', '113780', '2621', '349226', '350409', '2656', '248659', 'SOTON/OQ 392083', '17475', 'SC/A4 23568', '113791', '349255', '3701', '350405', 'S.O./P.P. 752', '347469', '110489', 'SOTON/O.Q. 3101315', '335432', '220844', '343271', '237393', 'PC 17591', '17770', '7548', 'S.O./P.P. 251', '2670', '2673', '233478', '7935', '239059', 'S.O./P.P. 2', 'A/4 48873', '28221', '111163', '235509', '347465', '347066', 'C.A. 31030', '65305', 'C.A. 34050', 'F.C. 12998', '9232', '28034', 'PC 17613', '349250', 'SOTON/O.Q. 3101308', '347091', '113038', '330924', '32302', 'SC/PARIS 2148', '342684', 'W./C. 14266', '350053', 'PC 17606', '350054', '370368', '242963', '113795', '3101266', '330971', '350416', '2679', '250650', '112377', '3470', 'SOTON/O2 3101284', '13508', '7266', '345775', 'C.A. 42795', 'AQ/4 3130', '363611', '28404', '345501', '350410', 'C.A. 34644', '349235', '112051', 'C.A. 49867', 'A. 2. 39186', '315095', '368573', '2676', 'SC 14888', 'CA 31352', 'W./C. 14260', '315085', '364859', 'A/5 21175', 'SOTON/O.Q. 3101314', '2655', 'A/5 1478', 'PC 17607', '382650', '2652', '345771', '349202', '113801', '347467', '347079', '237735', '315092', '383123', '112901', '315091', '2658', 'LP 1588', '368364', 'AQ/3. 30631', '28004', '350408', '347075', '2654', '244368', '113790', 'SOTON/O.Q. 3101309', '236854', 'PC 17580', '2684', '349229', '110469', '244360', '2675', '2622', 'C.A. 15185', '350403', '348125', '237670', '2688', '248726', 'F.C.C. 13540', '113044', '1222', '368402', '315083', '112378', 'SC/PARIS 2147', '28133', '248746', '315152', '29107', '680', '366713', '330910', 'SC/PARIS 2159', '349911', '244346', '364858', 'C.A. 30769', '371109', '347065', '21332', '17765', 'SC/PARIS 2166', '28666', '334915', '365237', '347086', 'A.5. 3236', 'SOTON/O.Q. 3101262', '359309']\n",
      "Cabin:  [nan, 'C85', 'C123', 'E46', 'G6', 'C103', 'D56', 'A6', 'C23 C25 C27', 'B78', 'D33', 'B30', 'C52', 'B28', 'C83', 'F33', 'F G73', 'E31', 'A5', 'D10 D12', 'D26', 'C110', 'B58 B60', 'E101', 'F E69', 'D47', 'B86', 'F2', 'C2', 'E33', 'B19', 'A7', 'C49', 'F4', 'A32', 'B4', 'B80', 'A31', 'D36', 'D15', 'C93', 'C78', 'D35', 'C87', 'B77', 'E67', 'B94', 'C125', 'C99', 'C118', 'D7', 'A19', 'B49', 'D', 'C22 C26', 'C106', 'C65', 'E36', 'C54', 'B57 B59 B63 B66', 'C7', 'E34', 'C32', 'B18', 'C124', 'C91', 'E40', 'T', 'C128', 'D37', 'B35', 'E50', 'C82', 'B96 B98', 'E10', 'E44', 'A34', 'C104', 'C111', 'C92', 'E38', 'D21', 'E12', 'E63', 'A14', 'B37', 'C30', 'D20', 'B79', 'E25', 'D46', 'B73', 'C95', 'B38', 'B39', 'B22', 'C86', 'C70', 'A16', 'C101', 'C68', 'A10', 'E68', 'B41', 'A20', 'D19', 'D50', 'D9', 'A23', 'B50', 'A26', 'D48', 'E58', 'C126', 'B71', 'B51 B53 B55', 'D49', 'B5', 'B20', 'F G63', 'C62 C64', 'E24', 'C90', 'C45', 'E8', 'B101', 'D45', 'C46', 'D30', 'E121', 'D11', 'E77', 'F38', 'B3', 'D6', 'B82 B84', 'D17', 'A36', 'B102', 'B69', 'E49', 'C47', 'D28', 'E17', 'A24', 'C50', 'B42', 'C148', 'B45', 'B36', 'A21', 'D34', 'A9', 'C31', 'B61', 'C53', 'D43', 'C130', 'C132', 'C55 C57', 'C116', 'F', 'A29', 'C6', 'C28', 'C51', 'C97', 'D22', 'B10', 'E45', 'E52', 'A11', 'B11', 'C80', 'C89', 'F E46', 'B26', 'F E57', 'A18', 'E60', 'E39 E41', 'B52 B54 B56', 'C39', 'B24', 'D40', 'D38', 'C105']\n",
      "Embarked:  ['S', 'C', 'Q', nan]\n"
     ]
    }
   ],
   "source": [
    "list(set(df))\n",
    "print(\"Name: \",list(df[\"Name\"].unique()))\n",
    "print(\"Sex: \", list(df[\"Sex\"].unique()))\n",
    "print(\"Ticket: \", list(df[\"Ticket\"].unique()))\n",
    "print(\"Cabin: \", list(df[\"Cabin\"].unique()))\n",
    "print(\"Embarked: \", list(df[\"Embarked\"].unique()))"
   ]
  },
  {
   "cell_type": "markdown",
   "metadata": {},
   "source": [
    "### 作業2：\n",
    "boolean\n",
    "object最困難"
   ]
  },
  {
   "cell_type": "code",
   "execution_count": null,
   "metadata": {},
   "outputs": [],
   "source": []
  }
 ],
 "metadata": {
  "kernelspec": {
   "display_name": "Python 3",
   "language": "python",
   "name": "python3"
  },
  "language_info": {
   "codemirror_mode": {
    "name": "ipython",
    "version": 3
   },
   "file_extension": ".py",
   "mimetype": "text/x-python",
   "name": "python",
   "nbconvert_exporter": "python",
   "pygments_lexer": "ipython3",
   "version": "3.6.8"
  }
 },
 "nbformat": 4,
 "nbformat_minor": 2
}
